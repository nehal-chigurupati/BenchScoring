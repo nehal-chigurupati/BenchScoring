{
 "cells": [
  {
   "cell_type": "code",
   "execution_count": 76,
   "id": "4f8aa995",
   "metadata": {},
   "outputs": [],
   "source": [
    "import pandas as pd\n",
    "import numpy as np\n",
    "from nba_api.stats.static import teams\n",
    "import plotly.express as px"
   ]
  },
  {
   "cell_type": "code",
   "execution_count": 62,
   "id": "799a06bb",
   "metadata": {},
   "outputs": [],
   "source": [
    "def get_teams_playoff_matchup(matchup_str):\n",
    "    return [matchup_str[0:3], matchup_str[-3:]]"
   ]
  },
  {
   "cell_type": "code",
   "execution_count": 61,
   "id": "334e6335",
   "metadata": {},
   "outputs": [],
   "source": [
    "def invert_matchup(matchup_str):\n",
    "    first_team, second_team = get_teams_playoff_matchup(matchup_str)\n",
    "    return second_team + \",\" + first_team"
   ]
  },
  {
   "cell_type": "code",
   "execution_count": null,
   "id": "6ab51090",
   "metadata": {},
   "outputs": [],
   "source": [
    "def identify_series(team_playoff_df):\n",
    "    matchup_strings = []\n",
    "    for index, row in team_playoff_df:\n",
    "        matchup_strings.append(get_teams_playoff_matchup(row[\"MATCHUP\"]))"
   ]
  },
  {
   "cell_type": "code",
   "execution_count": 2,
   "id": "093aba5f",
   "metadata": {},
   "outputs": [],
   "source": [
    "#Get z score\n",
    "def compute_z_score(element, column):\n",
    "    mean = np.mean(column)\n",
    "    z_score = (element - mean) / np.std(column)\n",
    "    return z_score"
   ]
  },
  {
   "cell_type": "code",
   "execution_count": 3,
   "id": "c354b674",
   "metadata": {},
   "outputs": [],
   "source": [
    "#generate string labels for seasons (ex: 2023-24)\n",
    "def generate_nba_seasons(start_year, end_year):\n",
    "    seasons = []\n",
    "    for year in range(start_year, end_year):\n",
    "        next_year = str(year + 1)[-2:]  # Get last two digits of the next year\n",
    "        season = f\"{year}-{next_year}\"\n",
    "        seasons.append(season)\n",
    "    return seasons"
   ]
  },
  {
   "cell_type": "code",
   "execution_count": 8,
   "id": "d9161932",
   "metadata": {},
   "outputs": [],
   "source": [
    "season_ids = generate_nba_seasons(2010, 2022)"
   ]
  },
  {
   "cell_type": "code",
   "execution_count": 9,
   "id": "285d9a3c",
   "metadata": {},
   "outputs": [],
   "source": [
    "data = []\n",
    "for season in season_ids:\n",
    "    data.append(pd.read_csv(\"Data/Raw/BENCH_POINTS_REG_SEASON_\" + season + \".csv\"))\n"
   ]
  },
  {
   "cell_type": "code",
   "execution_count": 28,
   "id": "73bb2986",
   "metadata": {},
   "outputs": [
    {
     "name": "stdout",
     "output_type": "stream",
     "text": [
      "      Unnamed: 0     TEAM_ID   GAME_ID   SEASON  BENCH_PTS  OFF_RTG  \\\n",
      "0              0  1610612748  21000001  2010-11       23.0    109.3   \n",
      "1              1  1610612738  21000001  2010-11       26.0    104.0   \n",
      "2              2  1610612756  21000002  2010-11       29.0    107.0   \n",
      "3              3  1610612757  21000002  2010-11       32.0    105.6   \n",
      "4              4  1610612745  21000003  2010-11       30.0    108.0   \n",
      "...          ...         ...       ...      ...        ...      ...   \n",
      "2453        2453  1610612746  21001228  2010-11       33.0    101.8   \n",
      "2454        2454  1610612759  21001229  2010-11       59.0    109.4   \n",
      "2455        2455  1610612756  21001229  2010-11       29.0    107.0   \n",
      "2456        2456  1610612747  21001230  2010-11       21.0    107.9   \n",
      "2457        2457  1610612758  21001230  2010-11       29.0    100.6   \n",
      "\n",
      "      SEASON_W_PCT  \n",
      "0            0.707  \n",
      "1            0.683  \n",
      "2            0.488  \n",
      "3            0.585  \n",
      "4            0.524  \n",
      "...            ...  \n",
      "2453         0.390  \n",
      "2454         0.744  \n",
      "2455         0.488  \n",
      "2456         0.695  \n",
      "2457         0.293  \n",
      "\n",
      "[2458 rows x 7 columns]\n"
     ]
    }
   ],
   "source": [
    "print(data[0])"
   ]
  },
  {
   "cell_type": "code",
   "execution_count": 11,
   "id": "1eed511b",
   "metadata": {},
   "outputs": [],
   "source": [
    "#Accumulate game-by-game data into team season data (i.e. get average bench points for each team season)\n",
    "seasonal_cume_data = []\n",
    "for season_data in data:\n",
    "    team_ids = []\n",
    "    seasons = []\n",
    "    avg_bench_pts = []\n",
    "    off_rtg = []\n",
    "    win_pcts = []\n",
    "    \n",
    "    #Current season\n",
    "    curr_season = season_data[\"SEASON\"].tolist()[0]\n",
    "    \n",
    "    for team in np.unique(season_data[\"TEAM_ID\"]):\n",
    "        \n",
    "        team_ids.append(team)\n",
    "        seasons.append(curr_season)\n",
    "        \n",
    "        #Compute average bench points for team\n",
    "        team_avg_bench_pts = np.mean(season_data[season_data[\"TEAM_ID\"] == team][\"BENCH_PTS\"])\n",
    "        avg_bench_pts.append(team_avg_bench_pts)\n",
    "        \n",
    "        #get season offensive rating and win pct for team\n",
    "        off_rtg.append(season_data[season_data[\"TEAM_ID\"] == team][\"OFF_RTG\"].tolist()[0])\n",
    "        win_pcts.append(season_data[season_data[\"TEAM_ID\"] == team][\"SEASON_W_PCT\"].tolist()[0])\n",
    "    \n",
    "    out_dict = {\n",
    "        \"TEAM_ID\": team_ids,\n",
    "        \"SEASON\": seasons,\n",
    "        \"AVG_BENCH_PTS\": avg_bench_pts,\n",
    "        \"OFF_RTG\": off_rtg,\n",
    "        \"W_PCT\": win_pcts\n",
    "    }\n",
    "    \n",
    "    seasonal_cume_data.append(pd.DataFrame(out_dict))"
   ]
  },
  {
   "cell_type": "code",
   "execution_count": 15,
   "id": "94eba175",
   "metadata": {},
   "outputs": [
    {
     "name": "stdout",
     "output_type": "stream",
     "text": [
      "       TEAM_ID   SEASON  AVG_BENCH_PTS  OFF_RTG  W_PCT\n",
      "0   1610612737  2010-11      30.939024    103.2  0.537\n",
      "1   1610612738  2010-11      26.740741    104.0  0.683\n",
      "2   1610612739  2010-11      35.646341     99.5  0.232\n",
      "3   1610612740  2010-11      29.621951    103.8  0.561\n",
      "4   1610612741  2010-11      27.524390    105.5  0.756\n",
      "5   1610612742  2010-11      40.518519    107.6  0.695\n",
      "6   1610612743  2010-11      37.219512    109.5  0.610\n",
      "7   1610612744  2010-11      24.207317    105.5  0.439\n",
      "8   1610612745  2010-11      32.426829    108.0  0.524\n",
      "9   1610612746  2010-11      27.085366    101.8  0.390\n",
      "10  1610612747  2010-11      28.243902    107.9  0.695\n",
      "11  1610612748  2010-11      21.939024    109.3  0.707\n",
      "12  1610612749  2010-11      30.963415     99.0  0.427\n",
      "13  1610612750  2010-11      34.530864    101.1  0.207\n",
      "14  1610612751  2010-11      31.271605    100.2  0.293\n",
      "15  1610612752  2010-11      26.914634    108.3  0.512\n",
      "16  1610612753  2010-11      27.268293    105.7  0.634\n",
      "17  1610612754  2010-11      33.609756    101.9  0.451\n",
      "18  1610612755  2010-11      39.259259    104.0  0.500\n",
      "19  1610612756  2010-11      40.292683    107.0  0.488\n",
      "20  1610612757  2010-11      24.585366    105.6  0.585\n",
      "21  1610612758  2010-11      34.024390    100.6  0.293\n",
      "22  1610612759  2010-11      36.487500    109.4  0.744\n",
      "23  1610612760  2010-11      30.268293    108.6  0.671\n",
      "24  1610612761  2010-11      32.135802    103.3  0.268\n",
      "25  1610612762  2010-11      25.024691    104.9  0.476\n",
      "26  1610612763  2010-11      27.390244    104.4  0.561\n",
      "27  1610612764  2010-11      27.585366     99.6  0.280\n",
      "28  1610612765  2010-11      38.987805    104.6  0.366\n",
      "29  1610612766  2010-11      27.753086    100.8  0.415\n"
     ]
    }
   ],
   "source": [
    "print(seasonal_cume_data[0])"
   ]
  },
  {
   "cell_type": "code",
   "execution_count": 21,
   "id": "38f9bdb1",
   "metadata": {},
   "outputs": [],
   "source": [
    "#Calculate z scores and accumulate all data into a single dataframe\n",
    "team_ids = []\n",
    "seasons = []\n",
    "bench_pts_z_scores = []\n",
    "off_rtg_z_scores = []\n",
    "w_pct_z_scores = []\n",
    "\n",
    "for season_data in seasonal_cume_data:\n",
    "    \n",
    "    #Collect data from all teams to use for computing z-scores\n",
    "    seasonal_bench_pts = season_data[\"AVG_BENCH_PTS\"].tolist()\n",
    "    seasonal_off_rtgs = season_data[\"OFF_RTG\"].tolist()\n",
    "    seasonal_w_pcts = season_data[\"W_PCT\"].tolist()\n",
    "    \n",
    "    for index, row in season_data.iterrows():\n",
    "        team_ids.append(row[\"TEAM_ID\"])\n",
    "        seasons.append(row[\"SEASON\"])\n",
    "    \n",
    "        #Compute z scores\n",
    "        bench_pts_z_scores.append(compute_z_score(row[\"AVG_BENCH_PTS\"], seasonal_bench_pts))\n",
    "        off_rtg_z_scores.append(compute_z_score(row[\"OFF_RTG\"], seasonal_off_rtgs))\n",
    "        w_pct_z_scores.append(compute_z_score(row[\"W_PCT\"], seasonal_w_pcts))\n",
    "        \n",
    "\n",
    "out_dict = {\n",
    "    \"TEAM_ID\": team_ids,\n",
    "    \"SEASON\": seasons,\n",
    "    \"REL_BENCH_PTS\": bench_pts_z_scores,\n",
    "    \"REL_OFF_RTG\": off_rtg_z_scores,\n",
    "    \"REL_W_PCT\": w_pct_z_scores\n",
    "}\n",
    "\n",
    "relative_data = pd.DataFrame(out_dict)"
   ]
  },
  {
   "cell_type": "code",
   "execution_count": 22,
   "id": "a3530967",
   "metadata": {},
   "outputs": [
    {
     "name": "stdout",
     "output_type": "stream",
     "text": [
      "        TEAM_ID   SEASON  REL_BENCH_PTS  REL_OFF_RTG  REL_W_PCT\n",
      "0    1610612737  2010-11      -0.015224    -0.404078   0.234234\n",
      "1    1610612738  2010-11      -0.850603    -0.152838   1.158506\n",
      "2    1610612739  2010-11       0.921444    -1.566064  -1.696610\n",
      "3    1610612740  2010-11      -0.277296    -0.215648   0.386169\n",
      "4    1610612741  2010-11      -0.694671     0.318238   1.620643\n",
      "..          ...      ...            ...          ...        ...\n",
      "355  1610612762  2021-22       0.727985     1.485015   0.707263\n",
      "356  1610612763  2021-22       0.918643     0.715245   1.320288\n",
      "357  1610612764  2021-22       1.024471    -0.150747  -0.526000\n",
      "358  1610612765  2021-22       0.902854    -1.946877  -1.586172\n",
      "359  1610612766  2021-22       0.221519     0.747318   0.173570\n",
      "\n",
      "[360 rows x 5 columns]\n"
     ]
    }
   ],
   "source": [
    "print(relative_data)"
   ]
  },
  {
   "cell_type": "code",
   "execution_count": 23,
   "id": "2d0ffaaa",
   "metadata": {},
   "outputs": [],
   "source": [
    "relative_data.to_csv(\"Data/Polished/RELATIVE_REG_SEASON_DATA.csv\")"
   ]
  },
  {
   "cell_type": "code",
   "execution_count": null,
   "id": "49d6f262",
   "metadata": {},
   "outputs": [],
   "source": [
    "\"\"\"\n",
    "Next, get the z-scores of avg proportions of points that come from the bench\n",
    "\"\"\""
   ]
  },
  {
   "cell_type": "code",
   "execution_count": 26,
   "id": "df74afd0",
   "metadata": {},
   "outputs": [],
   "source": [
    "#Read total points data \n",
    "total_points = pd.read_csv(\"Data/Raw/TOTAL_GAME_POINTS_DATA.csv\")"
   ]
  },
  {
   "cell_type": "code",
   "execution_count": 27,
   "id": "b95ad410",
   "metadata": {},
   "outputs": [
    {
     "name": "stdout",
     "output_type": "stream",
     "text": [
      "       Unnamed: 0   GAME_ID     TEAM_ID  PTS\n",
      "0               0  21000001  1610612748   80\n",
      "1               1  21000001  1610612738   88\n",
      "2               2  21000002  1610612756   92\n",
      "3               3  21000002  1610612757  106\n",
      "4               4  21000003  1610612745  110\n",
      "...           ...       ...         ...  ...\n",
      "28393        2455  22101220  1610612743  141\n",
      "28394        2456  22101226  1610612752  105\n",
      "28395        2457  22101217  1610612766  124\n",
      "28396        2458  22101225  1610612740  107\n",
      "28397        2459  22101229  1610612756  109\n",
      "\n",
      "[28398 rows x 4 columns]\n"
     ]
    }
   ],
   "source": [
    "print(total_points)"
   ]
  },
  {
   "cell_type": "code",
   "execution_count": 29,
   "id": "51458f87",
   "metadata": {},
   "outputs": [],
   "source": [
    "#For each game, get the proportion of team points that came from the bench\n",
    "for season_data in data:\n",
    "    bench_pts_prop = []\n",
    "    for index, row in season_data.iterrows():\n",
    "        game_id = row[\"GAME_ID\"]\n",
    "        team_id = row[\"TEAM_ID\"]\n",
    "        \n",
    "        game_team_tot_pts = total_points[total_points[\"GAME_ID\"] == game_id]\n",
    "        game_team_tot_pts = game_team_tot_pts[game_team_tot_pts[\"TEAM_ID\"] == team_id][\"PTS\"].tolist()[0]\n",
    "        \n",
    "        bench_pts_prop.append(row[\"BENCH_PTS\"] / game_team_tot_pts)\n",
    "    \n",
    "    season_data[\"BENCH_PTS_PROP\"] = bench_pts_prop"
   ]
  },
  {
   "cell_type": "code",
   "execution_count": 35,
   "id": "ff2a818b",
   "metadata": {},
   "outputs": [],
   "source": [
    "#Compute team averages\n",
    "bench_prop_cume_data = []\n",
    "for season_data in data:\n",
    "    team_ids = []\n",
    "    seasons = []\n",
    "    bench_prop = []\n",
    "    off_rtg = []\n",
    "    win_pcts = []\n",
    "    \n",
    "    #Current season\n",
    "    curr_season = season_data[\"SEASON\"].tolist()[0]\n",
    "    \n",
    "    for team in np.unique(season_data[\"TEAM_ID\"]):\n",
    "        \n",
    "        team_ids.append(team)\n",
    "        seasons.append(curr_season)\n",
    "        \n",
    "        #Compute average bench points for team\n",
    "        team_avg_bench_prop = np.mean(season_data[season_data[\"TEAM_ID\"] == team][\"BENCH_PTS_PROP\"])\n",
    "        bench_prop.append(team_avg_bench_prop)\n",
    "        \n",
    "        #get season offensive rating and win pct for team\n",
    "        off_rtg.append(season_data[season_data[\"TEAM_ID\"] == team][\"OFF_RTG\"].tolist()[0])\n",
    "        win_pcts.append(season_data[season_data[\"TEAM_ID\"] == team][\"SEASON_W_PCT\"].tolist()[0])\n",
    "    \n",
    "    out_dict = {\n",
    "        \"TEAM_ID\": team_ids,\n",
    "        \"SEASON\": seasons,\n",
    "        \"BENCH_PROP\": bench_prop,\n",
    "        \"OFF_RTG\": off_rtg,\n",
    "        \"W_PCT\": win_pcts\n",
    "    }\n",
    "    \n",
    "    bench_prop_cume_data.append(pd.DataFrame(out_dict))"
   ]
  },
  {
   "cell_type": "code",
   "execution_count": 36,
   "id": "c704256a",
   "metadata": {},
   "outputs": [
    {
     "name": "stdout",
     "output_type": "stream",
     "text": [
      "       TEAM_ID   SEASON  BENCH_PROP  OFF_RTG  W_PCT\n",
      "0   1610612737  2010-11    0.329232    103.2  0.537\n",
      "1   1610612738  2010-11    0.276372    104.0  0.683\n",
      "2   1610612739  2010-11    0.377224     99.5  0.232\n",
      "3   1610612740  2010-11    0.311895    103.8  0.561\n",
      "4   1610612741  2010-11    0.277325    105.5  0.756\n",
      "5   1610612742  2010-11    0.402258    107.6  0.695\n",
      "6   1610612743  2010-11    0.342916    109.5  0.610\n",
      "7   1610612744  2010-11    0.239653    105.5  0.439\n",
      "8   1610612745  2010-11    0.305174    108.0  0.524\n",
      "9   1610612746  2010-11    0.277505    101.8  0.390\n",
      "10  1610612747  2010-11    0.277450    107.9  0.695\n",
      "11  1610612748  2010-11    0.213378    109.3  0.707\n",
      "12  1610612749  2010-11    0.338461     99.0  0.427\n",
      "13  1610612750  2010-11    0.343905    101.1  0.207\n",
      "14  1610612751  2010-11    0.334436    100.2  0.293\n",
      "15  1610612752  2010-11    0.254109    108.3  0.512\n",
      "16  1610612753  2010-11    0.272687    105.7  0.634\n",
      "17  1610612754  2010-11    0.339077    101.9  0.451\n",
      "18  1610612755  2010-11    0.395145    104.0  0.500\n",
      "19  1610612756  2010-11    0.387626    107.0  0.488\n",
      "20  1610612757  2010-11    0.256734    105.6  0.585\n",
      "21  1610612758  2010-11    0.344230    100.6  0.293\n",
      "22  1610612759  2010-11    0.352491    109.4  0.744\n",
      "23  1610612760  2010-11    0.289534    108.6  0.671\n",
      "24  1610612761  2010-11    0.323273    103.3  0.268\n",
      "25  1610612762  2010-11    0.253293    104.9  0.476\n",
      "26  1610612763  2010-11    0.273770    104.4  0.561\n",
      "27  1610612764  2010-11    0.285328     99.6  0.280\n",
      "28  1610612765  2010-11    0.402814    104.6  0.366\n",
      "29  1610612766  2010-11    0.299063    100.8  0.415\n"
     ]
    }
   ],
   "source": [
    "print(bench_prop_cume_data[0])"
   ]
  },
  {
   "cell_type": "code",
   "execution_count": 42,
   "id": "b8cd195c",
   "metadata": {},
   "outputs": [],
   "source": [
    "#Calculate z scores and accumulate all data into a single dataframe\n",
    "team_ids = []\n",
    "seasons = []\n",
    "bench_pts_prop_z_scores = []\n",
    "off_rtg_z_scores = []\n",
    "w_pct_z_scores = []\n",
    "\n",
    "for season_data in bench_prop_cume_data:\n",
    "    \n",
    "    #Collect data from all teams to use for computing z-scores\n",
    "    seasonal_bench_props = season_data[\"BENCH_PROP\"].tolist()\n",
    "    seasonal_off_rtgs = season_data[\"OFF_RTG\"].tolist()\n",
    "    seasonal_w_pcts = season_data[\"W_PCT\"].tolist()\n",
    "    \n",
    "    for index, row in season_data.iterrows():\n",
    "        team_ids.append(row[\"TEAM_ID\"])\n",
    "        seasons.append(row[\"SEASON\"])\n",
    "    \n",
    "        #Compute z scores\n",
    "        bench_pts_prop_z_scores.append(compute_z_score(row[\"BENCH_PROP\"], seasonal_bench_props))\n",
    "        off_rtg_z_scores.append(compute_z_score(row[\"OFF_RTG\"], seasonal_off_rtgs))\n",
    "        w_pct_z_scores.append(compute_z_score(row[\"W_PCT\"], seasonal_w_pcts))\n",
    "        \n",
    "\n",
    "out_dict = {\n",
    "    \"TEAM_ID\": team_ids,\n",
    "    \"SEASON\": seasons,\n",
    "    \"REL_BENCH_PROP\": bench_pts_prop_z_scores,\n",
    "    \"REL_OFF_RTG\": off_rtg_z_scores,\n",
    "    \"REL_W_PCT\": w_pct_z_scores\n",
    "}\n",
    "\n",
    "rel_prop_data = pd.DataFrame(out_dict)"
   ]
  },
  {
   "cell_type": "code",
   "execution_count": 43,
   "id": "c79e24e7",
   "metadata": {},
   "outputs": [
    {
     "name": "stdout",
     "output_type": "stream",
     "text": [
      "        TEAM_ID   SEASON  REL_BENCH_PROP  REL_OFF_RTG  REL_W_PCT\n",
      "0    1610612737  2010-11        0.335107    -0.404078   0.234234\n",
      "1    1610612738  2010-11       -0.726431    -0.152838   1.158506\n",
      "2    1610612739  2010-11        1.298882    -1.566064  -1.696610\n",
      "3    1610612740  2010-11       -0.013052    -0.215648   0.386169\n",
      "4    1610612741  2010-11       -0.707288     0.318238   1.620643\n",
      "..          ...      ...             ...          ...        ...\n",
      "355  1610612762  2021-22        0.467584     1.485015   0.707263\n",
      "356  1610612763  2021-22        0.401514     0.715245   1.320288\n",
      "357  1610612764  2021-22        1.197849    -0.150747  -0.526000\n",
      "358  1610612765  2021-22        1.408451    -1.946877  -1.586172\n",
      "359  1610612766  2021-22       -0.209506     0.747318   0.173570\n",
      "\n",
      "[360 rows x 5 columns]\n"
     ]
    }
   ],
   "source": [
    "print(rel_prop_data)"
   ]
  },
  {
   "cell_type": "code",
   "execution_count": 44,
   "id": "ba0d5e1f",
   "metadata": {},
   "outputs": [],
   "source": [
    "rel_prop_data.to_csv(\"Data/Polished/REL_BENCH_PTS_PROP_REG_SEASON_DATA.csv\")"
   ]
  },
  {
   "cell_type": "code",
   "execution_count": null,
   "id": "c263bcbf",
   "metadata": {},
   "outputs": [],
   "source": [
    "#Process playoff data"
   ]
  },
  {
   "cell_type": "code",
   "execution_count": 45,
   "id": "a32b9e8d",
   "metadata": {},
   "outputs": [],
   "source": [
    "#Fetch raw playoff data\n",
    "raw_playoff_data = [pd.read_csv(\"Data/Raw/PLAYOFFS_\" + season + \".csv\") for season in season_ids]\n",
    "raw_playoff_data = pd.concat(raw_playoff_data)"
   ]
  },
  {
   "cell_type": "code",
   "execution_count": 46,
   "id": "da1f6725",
   "metadata": {},
   "outputs": [
    {
     "name": "stdout",
     "output_type": "stream",
     "text": [
      "    Unnamed: 0  TOTAL_PTS  TOTAL_BENCH_PTS  WL  MATCHUP     TEAM_ID   SEASON\n",
      "0            0        556              125   1  CHI,ATL  1610612741  2010-11\n",
      "1            1        488              120   1  CHI,IND  1610612741  2010-11\n",
      "2            2        436              108   0  CHI,MIA  1610612741  2010-11\n",
      "3            0        566              181   0  SAS,MEM  1610612759  2010-11\n",
      "4            0        477               95   1  MIA,BOS  1610612748  2010-11\n",
      "..         ...        ...              ...  ..      ...         ...      ...\n",
      "21           1        669              109   1  PHI,TOR  1610612755  2021-22\n",
      "22           0        619              170   0  TOR,PHI  1610612761  2021-22\n",
      "23           0        594              169   0  UTA,DAL  1610612762  2021-22\n",
      "24           0        476              103   0  CHI,MIL  1610612741  2021-22\n",
      "25           0        550              168   0  DEN,GSW  1610612743  2021-22\n",
      "\n",
      "[356 rows x 7 columns]\n"
     ]
    }
   ],
   "source": [
    "print(raw_playoff_data)"
   ]
  },
  {
   "cell_type": "code",
   "execution_count": 70,
   "id": "90fa6927",
   "metadata": {},
   "outputs": [
    {
     "name": "stdout",
     "output_type": "stream",
     "text": [
      "CHI,ATL\n",
      "ATL,CHI\n",
      "CHI,IND\n",
      "IND,CHI\n",
      "CHI,MIA\n",
      "MIA,CHI\n",
      "SAS,MEM\n",
      "MEM,SAS\n",
      "MIA,BOS\n",
      "BOS,MIA\n",
      "MIA,CHI\n",
      "CHI,MIA\n",
      "MIA,DAL\n",
      "DAL,MIA\n",
      "MIA,PHI\n",
      "PHI,MIA\n",
      "LAL,DAL\n",
      "DAL,LAL\n",
      "BOS,MIA\n",
      "MIA,BOS\n",
      "BOS,NYK\n",
      "NYK,BOS\n",
      "DAL,LAL\n",
      "LAL,DAL\n",
      "DAL,MIA\n",
      "MIA,DAL\n",
      "DAL,OKC\n",
      "OKC,DAL\n",
      "DAL,POR\n",
      "POR,DAL\n",
      "ORL,ATL\n",
      "ATL,ORL\n",
      "OKC,DAL\n",
      "DAL,OKC\n",
      "OKC,DEN\n",
      "DEN,OKC\n",
      "OKC,MEM\n",
      "MEM,OKC\n",
      "ATL,CHI\n",
      "CHI,ATL\n",
      "ATL,ORL\n",
      "ORL,ATL\n",
      "DEN,OKC\n",
      "OKC,DEN\n",
      "NYK,BOS\n",
      "BOS,NYK\n",
      "POR,DAL\n",
      "DAL,POR\n",
      "NOH,LAL\n",
      "LAL,NOH\n",
      "PHI,MIA\n",
      "MIA,PHI\n",
      "IND,CHI\n",
      "CHI,IND\n",
      "MEM,OKC\n",
      "OKC,MEM\n",
      "MEM,SAS\n",
      "SAS,MEM\n",
      "SAS,LAC\n",
      "LAC,SAS\n",
      "SAS,OKC\n",
      "OKC,SAS\n",
      "SAS,UTA\n",
      "UTA,SAS\n",
      "CHI,PHI\n",
      "PHI,CHI\n",
      "MIA,BOS\n",
      "BOS,MIA\n",
      "MIA,IND\n",
      "IND,MIA\n",
      "MIA,NYK\n",
      "NYK,MIA\n",
      "MIA,OKC\n",
      "OKC,MIA\n",
      "OKC,DAL\n",
      "DAL,OKC\n",
      "OKC,LAL\n",
      "LAL,OKC\n",
      "OKC,MIA\n",
      "MIA,OKC\n",
      "OKC,SAS\n",
      "SAS,OKC\n",
      "LAL,DEN\n",
      "DEN,LAL\n",
      "LAL,OKC\n",
      "OKC,LAL\n",
      "IND,MIA\n",
      "MIA,IND\n",
      "IND,ORL\n",
      "ORL,IND\n",
      "BOS,ATL\n",
      "ATL,BOS\n",
      "BOS,MIA\n",
      "MIA,BOS\n",
      "BOS,PHI\n",
      "PHI,BOS\n",
      "MEM,LAC\n",
      "LAC,MEM\n",
      "LAC,MEM\n",
      "MEM,LAC\n",
      "LAC,SAS\n",
      "SAS,LAC\n",
      "ATL,BOS\n",
      "BOS,ATL\n",
      "DEN,LAL\n",
      "LAL,DEN\n",
      "ORL,IND\n",
      "IND,ORL\n",
      "DAL,OKC\n",
      "OKC,DAL\n",
      "NYK,MIA\n",
      "MIA,NYK\n",
      "PHI,BOS\n",
      "BOS,PHI\n",
      "PHI,CHI\n",
      "CHI,PHI\n",
      "UTA,SAS\n",
      "SAS,UTA\n",
      "MIA,CHI\n",
      "CHI,MIA\n",
      "MIA,IND\n",
      "IND,MIA\n",
      "MIA,MIL\n",
      "MIL,MIA\n",
      "MIA,SAS\n",
      "SAS,MIA\n",
      "OKC,HOU\n",
      "HOU,OKC\n",
      "OKC,MEM\n",
      "MEM,OKC\n",
      "NYK,BOS\n",
      "BOS,NYK\n",
      "NYK,IND\n",
      "IND,NYK\n",
      "SAS,GSW\n",
      "GSW,SAS\n",
      "SAS,LAL\n",
      "LAL,SAS\n",
      "SAS,MEM\n",
      "MEM,SAS\n",
      "SAS,MIA\n",
      "MIA,SAS\n",
      "DEN,GSW\n",
      "GSW,DEN\n",
      "IND,ATL\n",
      "ATL,IND\n",
      "IND,MIA\n",
      "MIA,IND\n",
      "IND,NYK\n",
      "NYK,IND\n",
      "LAC,MEM\n",
      "MEM,LAC\n",
      "BKN,CHI\n",
      "CHI,BKN\n",
      "CHI,BKN\n",
      "BKN,CHI\n",
      "CHI,MIA\n",
      "MIA,CHI\n",
      "MEM,LAC\n",
      "LAC,MEM\n",
      "MEM,OKC\n",
      "OKC,MEM\n",
      "MEM,SAS\n",
      "SAS,MEM\n",
      "ATL,IND\n",
      "IND,ATL\n",
      "GSW,DEN\n",
      "DEN,GSW\n",
      "GSW,SAS\n",
      "SAS,GSW\n",
      "BOS,NYK\n",
      "NYK,BOS\n",
      "LAL,SAS\n",
      "SAS,LAL\n",
      "HOU,OKC\n",
      "OKC,HOU\n",
      "MIL,MIA\n",
      "MIA,MIL\n",
      "IND,ATL\n",
      "ATL,IND\n",
      "IND,MIA\n",
      "MIA,IND\n",
      "IND,WAS\n",
      "WAS,IND\n",
      "SAS,DAL\n",
      "DAL,SAS\n",
      "SAS,MIA\n",
      "MIA,SAS\n",
      "SAS,OKC\n",
      "OKC,SAS\n",
      "SAS,POR\n",
      "POR,SAS\n",
      "MIA,BKN\n",
      "BKN,MIA\n",
      "MIA,CHA\n",
      "CHA,MIA\n",
      "MIA,IND\n",
      "IND,MIA\n",
      "MIA,SAS\n",
      "SAS,MIA\n",
      "OKC,LAC\n",
      "LAC,OKC\n",
      "OKC,MEM\n",
      "MEM,OKC\n",
      "OKC,SAS\n",
      "SAS,OKC\n",
      "LAC,GSW\n",
      "GSW,LAC\n",
      "LAC,OKC\n",
      "OKC,LAC\n",
      "TOR,BKN\n",
      "BKN,TOR\n",
      "CHI,WAS\n",
      "WAS,CHI\n",
      "HOU,POR\n",
      "POR,HOU\n",
      "POR,HOU\n",
      "HOU,POR\n",
      "POR,SAS\n",
      "SAS,POR\n",
      "WAS,CHI\n",
      "CHI,WAS\n",
      "WAS,IND\n",
      "IND,WAS\n",
      "GSW,LAC\n",
      "LAC,GSW\n",
      "BKN,MIA\n",
      "MIA,BKN\n",
      "BKN,TOR\n",
      "TOR,BKN\n",
      "MEM,OKC\n",
      "OKC,MEM\n",
      "CHA,MIA\n",
      "MIA,CHA\n",
      "ATL,IND\n",
      "IND,ATL\n",
      "DAL,SAS\n",
      "SAS,DAL\n",
      "ATL,BKN\n",
      "BKN,ATL\n",
      "ATL,CLE\n",
      "CLE,ATL\n",
      "ATL,WAS\n",
      "WAS,ATL\n",
      "GSW,CLE\n",
      "CLE,GSW\n",
      "GSW,HOU\n",
      "HOU,GSW\n",
      "GSW,MEM\n",
      "MEM,GSW\n",
      "GSW,NOP\n",
      "NOP,GSW\n",
      "CLE,ATL\n",
      "ATL,CLE\n",
      "CLE,BOS\n",
      "BOS,CLE\n",
      "CLE,CHI\n",
      "CHI,CLE\n",
      "CLE,GSW\n",
      "GSW,CLE\n",
      "HOU,DAL\n",
      "DAL,HOU\n",
      "HOU,GSW\n",
      "GSW,HOU\n",
      "HOU,LAC\n",
      "LAC,HOU\n",
      "CHI,CLE\n",
      "CLE,CHI\n",
      "CHI,MIL\n",
      "MIL,CHI\n",
      "LAC,HOU\n",
      "HOU,LAC\n",
      "LAC,SAS\n",
      "SAS,LAC\n",
      "POR,MEM\n",
      "MEM,POR\n",
      "TOR,WAS\n",
      "WAS,TOR\n",
      "MEM,GSW\n",
      "GSW,MEM\n",
      "MEM,POR\n",
      "POR,MEM\n",
      "WAS,ATL\n",
      "ATL,WAS\n",
      "WAS,TOR\n",
      "TOR,WAS\n",
      "MIL,CHI\n",
      "CHI,MIL\n",
      "SAS,LAC\n",
      "LAC,SAS\n",
      "BOS,CLE\n",
      "CLE,BOS\n",
      "DAL,HOU\n",
      "HOU,DAL\n",
      "NOP,GSW\n",
      "GSW,NOP\n",
      "BKN,ATL\n",
      "ATL,BKN\n",
      "CLE,ATL\n",
      "ATL,CLE\n",
      "CLE,DET\n",
      "DET,CLE\n",
      "CLE,GSW\n",
      "GSW,CLE\n",
      "CLE,TOR\n",
      "TOR,CLE\n",
      "GSW,CLE\n",
      "CLE,GSW\n",
      "GSW,HOU\n",
      "HOU,GSW\n",
      "GSW,OKC\n",
      "OKC,GSW\n",
      "GSW,POR\n",
      "POR,GSW\n",
      "SAS,MEM\n",
      "MEM,SAS\n",
      "SAS,OKC\n",
      "OKC,SAS\n",
      "TOR,CLE\n",
      "CLE,TOR\n",
      "TOR,IND\n",
      "IND,TOR\n",
      "TOR,MIA\n",
      "MIA,TOR\n",
      "MIA,CHA\n",
      "CHA,MIA\n",
      "MIA,TOR\n",
      "TOR,MIA\n",
      "OKC,DAL\n",
      "DAL,OKC\n",
      "OKC,GSW\n",
      "GSW,OKC\n",
      "OKC,SAS\n",
      "SAS,OKC\n",
      "ATL,BOS\n",
      "BOS,ATL\n",
      "ATL,CLE\n",
      "CLE,ATL\n",
      "LAC,POR\n",
      "POR,LAC\n",
      "BOS,ATL\n",
      "ATL,BOS\n",
      "POR,GSW\n",
      "GSW,POR\n",
      "POR,LAC\n",
      "LAC,POR\n",
      "DAL,OKC\n",
      "OKC,DAL\n",
      "CHA,MIA\n",
      "MIA,CHA\n",
      "IND,TOR\n",
      "TOR,IND\n",
      "MEM,SAS\n",
      "SAS,MEM\n",
      "HOU,GSW\n",
      "GSW,HOU\n",
      "DET,CLE\n",
      "CLE,DET\n",
      "BOS,CHI\n",
      "CHI,BOS\n",
      "BOS,CLE\n",
      "CLE,BOS\n",
      "BOS,WAS\n",
      "WAS,BOS\n",
      "GSW,CLE\n",
      "CLE,GSW\n",
      "GSW,POR\n",
      "POR,GSW\n",
      "GSW,SAS\n",
      "SAS,GSW\n",
      "GSW,UTA\n",
      "UTA,GSW\n",
      "CLE,BOS\n",
      "BOS,CLE\n",
      "CLE,GSW\n",
      "GSW,CLE\n",
      "CLE,IND\n",
      "IND,CLE\n",
      "CLE,TOR\n",
      "TOR,CLE\n",
      "SAS,GSW\n",
      "GSW,SAS\n",
      "SAS,HOU\n",
      "HOU,SAS\n",
      "SAS,MEM\n",
      "MEM,SAS\n",
      "HOU,OKC\n",
      "OKC,HOU\n",
      "HOU,SAS\n",
      "SAS,HOU\n",
      "TOR,CLE\n",
      "CLE,TOR\n",
      "TOR,MIL\n",
      "MIL,TOR\n",
      "LAC,UTA\n",
      "UTA,LAC\n",
      "WAS,ATL\n",
      "ATL,WAS\n",
      "WAS,BOS\n",
      "BOS,WAS\n",
      "ATL,WAS\n",
      "WAS,ATL\n",
      "UTA,GSW\n",
      "GSW,UTA\n",
      "UTA,LAC\n",
      "LAC,UTA\n",
      "MIL,TOR\n",
      "TOR,MIL\n",
      "OKC,HOU\n",
      "HOU,OKC\n",
      "MEM,SAS\n",
      "SAS,MEM\n",
      "IND,CLE\n",
      "CLE,IND\n",
      "CHI,BOS\n",
      "BOS,CHI\n",
      "POR,GSW\n",
      "GSW,POR\n",
      "TOR,CLE\n",
      "CLE,TOR\n",
      "TOR,WAS\n",
      "WAS,TOR\n",
      "HOU,GSW\n",
      "GSW,HOU\n",
      "HOU,MIN\n",
      "MIN,HOU\n",
      "HOU,UTA\n",
      "UTA,HOU\n",
      "BOS,CLE\n",
      "CLE,BOS\n",
      "BOS,MIL\n",
      "MIL,BOS\n",
      "BOS,PHI\n",
      "PHI,BOS\n",
      "GSW,CLE\n",
      "CLE,GSW\n",
      "GSW,HOU\n",
      "HOU,GSW\n",
      "GSW,NOP\n",
      "NOP,GSW\n",
      "GSW,SAS\n",
      "SAS,GSW\n",
      "PHI,BOS\n",
      "BOS,PHI\n",
      "PHI,MIA\n",
      "MIA,PHI\n",
      "POR,NOP\n",
      "NOP,POR\n",
      "OKC,UTA\n",
      "UTA,OKC\n",
      "CLE,BOS\n",
      "BOS,CLE\n",
      "CLE,GSW\n",
      "GSW,CLE\n",
      "CLE,IND\n",
      "IND,CLE\n",
      "CLE,TOR\n",
      "TOR,CLE\n",
      "UTA,HOU\n",
      "HOU,UTA\n",
      "UTA,OKC\n",
      "OKC,UTA\n",
      "IND,CLE\n",
      "CLE,IND\n",
      "NOP,GSW\n",
      "GSW,NOP\n",
      "NOP,POR\n",
      "POR,NOP\n",
      "MIA,PHI\n",
      "PHI,MIA\n",
      "MIL,BOS\n",
      "BOS,MIL\n",
      "SAS,GSW\n",
      "GSW,SAS\n",
      "WAS,TOR\n",
      "TOR,WAS\n",
      "MIN,HOU\n",
      "HOU,MIN\n",
      "GSW,HOU\n",
      "HOU,GSW\n",
      "GSW,LAC\n",
      "LAC,GSW\n",
      "GSW,POR\n",
      "POR,GSW\n",
      "GSW,TOR\n",
      "TOR,GSW\n",
      "MIL,BOS\n",
      "BOS,MIL\n",
      "MIL,DET\n",
      "DET,MIL\n",
      "MIL,TOR\n",
      "TOR,MIL\n",
      "DEN,POR\n",
      "POR,DEN\n",
      "DEN,SAS\n",
      "SAS,DEN\n",
      "TOR,GSW\n",
      "GSW,TOR\n",
      "TOR,MIL\n",
      "MIL,TOR\n",
      "TOR,ORL\n",
      "ORL,TOR\n",
      "TOR,PHI\n",
      "PHI,TOR\n",
      "POR,DEN\n",
      "DEN,POR\n",
      "POR,GSW\n",
      "GSW,POR\n",
      "POR,OKC\n",
      "OKC,POR\n",
      "PHI,BKN\n",
      "BKN,PHI\n",
      "PHI,TOR\n",
      "TOR,PHI\n",
      "BOS,IND\n",
      "IND,BOS\n",
      "BOS,MIL\n",
      "MIL,BOS\n",
      "HOU,GSW\n",
      "GSW,HOU\n",
      "HOU,UTA\n",
      "UTA,HOU\n",
      "IND,BOS\n",
      "BOS,IND\n",
      "UTA,HOU\n",
      "HOU,UTA\n",
      "OKC,POR\n",
      "POR,OKC\n",
      "BKN,PHI\n",
      "PHI,BKN\n",
      "ORL,TOR\n",
      "TOR,ORL\n",
      "SAS,DEN\n",
      "DEN,SAS\n",
      "LAC,GSW\n",
      "GSW,LAC\n",
      "DET,MIL\n",
      "MIL,DET\n",
      "LAL,DEN\n",
      "DEN,LAL\n",
      "LAL,HOU\n",
      "HOU,LAL\n",
      "LAL,MIA\n",
      "MIA,LAL\n",
      "LAL,POR\n",
      "POR,LAL\n",
      "MIL,MIA\n",
      "MIA,MIL\n",
      "MIL,ORL\n",
      "ORL,MIL\n",
      "LAC,DAL\n",
      "DAL,LAC\n",
      "LAC,DEN\n",
      "DEN,LAC\n",
      "TOR,BKN\n",
      "BKN,TOR\n",
      "TOR,BOS\n",
      "BOS,TOR\n",
      "BOS,MIA\n",
      "MIA,BOS\n",
      "BOS,PHI\n",
      "PHI,BOS\n",
      "BOS,TOR\n",
      "TOR,BOS\n",
      "DEN,LAC\n",
      "LAC,DEN\n",
      "DEN,LAL\n",
      "LAL,DEN\n",
      "DEN,UTA\n",
      "UTA,DEN\n",
      "HOU,LAL\n",
      "LAL,HOU\n",
      "HOU,OKC\n",
      "OKC,HOU\n",
      "IND,MIA\n",
      "MIA,IND\n",
      "MIA,BOS\n",
      "BOS,MIA\n",
      "MIA,IND\n",
      "IND,MIA\n",
      "MIA,LAL\n",
      "LAL,MIA\n",
      "MIA,MIL\n",
      "MIL,MIA\n",
      "OKC,HOU\n",
      "HOU,OKC\n",
      "PHI,BOS\n",
      "BOS,PHI\n",
      "UTA,DEN\n",
      "DEN,UTA\n",
      "DAL,LAC\n",
      "LAC,DAL\n",
      "BKN,TOR\n",
      "TOR,BKN\n",
      "ORL,MIL\n",
      "MIL,ORL\n",
      "POR,LAL\n",
      "LAL,POR\n",
      "PHI,ATL\n",
      "ATL,PHI\n",
      "PHI,WAS\n",
      "WAS,PHI\n",
      "UTA,LAC\n",
      "LAC,UTA\n",
      "UTA,MEM\n",
      "MEM,UTA\n",
      "BKN,BOS\n",
      "BOS,BKN\n",
      "BKN,MIL\n",
      "MIL,BKN\n",
      "PHX,DEN\n",
      "DEN,PHX\n",
      "PHX,LAC\n",
      "LAC,PHX\n",
      "PHX,LAL\n",
      "LAL,PHX\n",
      "PHX,MIL\n",
      "MIL,PHX\n",
      "DEN,PHX\n",
      "PHX,DEN\n",
      "DEN,POR\n",
      "POR,DEN\n",
      "MIL,ATL\n",
      "ATL,MIL\n",
      "MIL,BKN\n",
      "BKN,MIL\n",
      "MIL,MIA\n",
      "MIA,MIL\n",
      "MIL,PHX\n",
      "PHX,MIL\n",
      "LAC,DAL\n",
      "DAL,LAC\n",
      "LAC,PHX\n",
      "PHX,LAC\n",
      "LAC,UTA\n",
      "UTA,LAC\n",
      "NYK,ATL\n",
      "ATL,NYK\n",
      "ATL,MIL\n",
      "MIL,ATL\n",
      "ATL,NYK\n",
      "NYK,ATL\n",
      "ATL,PHI\n",
      "PHI,ATL\n",
      "DAL,LAC\n",
      "LAC,DAL\n",
      "MIA,MIL\n",
      "MIL,MIA\n",
      "POR,DEN\n",
      "DEN,POR\n",
      "BOS,BKN\n",
      "BKN,BOS\n",
      "LAL,PHX\n",
      "PHX,LAL\n",
      "WAS,PHI\n",
      "PHI,WAS\n",
      "MEM,UTA\n",
      "UTA,MEM\n",
      "MIA,ATL\n",
      "ATL,MIA\n",
      "MIA,BOS\n",
      "BOS,MIA\n",
      "MIA,PHI\n",
      "PHI,MIA\n",
      "PHX,DAL\n",
      "DAL,PHX\n",
      "PHX,NOP\n",
      "NOP,PHX\n",
      "BOS,BKN\n",
      "BKN,BOS\n",
      "BOS,GSW\n",
      "GSW,BOS\n",
      "BOS,MIA\n",
      "MIA,BOS\n",
      "BOS,MIL\n",
      "MIL,BOS\n",
      "MEM,GSW\n",
      "GSW,MEM\n",
      "MEM,MIN\n",
      "MIN,MEM\n",
      "GSW,BOS\n",
      "BOS,GSW\n",
      "GSW,DAL\n",
      "DAL,GSW\n",
      "GSW,DEN\n",
      "DEN,GSW\n",
      "GSW,MEM\n",
      "MEM,GSW\n",
      "MIL,BOS\n",
      "BOS,MIL\n",
      "MIL,CHI\n",
      "CHI,MIL\n",
      "DAL,GSW\n",
      "GSW,DAL\n",
      "DAL,PHX\n",
      "PHX,DAL\n",
      "DAL,UTA\n",
      "UTA,DAL\n",
      "PHI,MIA\n",
      "MIA,PHI\n",
      "PHI,TOR\n",
      "TOR,PHI\n",
      "TOR,PHI\n",
      "PHI,TOR\n",
      "UTA,DAL\n",
      "DAL,UTA\n",
      "CHI,MIL\n",
      "MIL,CHI\n",
      "DEN,GSW\n",
      "GSW,DEN\n"
     ]
    }
   ],
   "source": [
    "reg_season_bench_pts_prop = []\n",
    "series_bench_pts_prop = []\n",
    "reg_season_playoff_change = []\n",
    "team_opp_tot_bench_diff = []\n",
    "team_opp_bench_prop_change = []\n",
    "w_or_l = []\n",
    "tot_pts_diff = []\n",
    "\n",
    "for index, row in raw_playoff_data.iterrows():\n",
    "    \n",
    "    #Get opponent data\n",
    "    opp_abbrev = row[\"MATCHUP\"][-3:]\n",
    "    \n",
    "    opp_id = teams.find_team_by_abbreviation(opp_abbrev)\n",
    "    \n",
    "    if opp_id:\n",
    "        opp_id = opp_id[\"id\"]\n",
    "        \n",
    "        #Find opponent data from series\n",
    "        opp_series_data = raw_playoff_data[raw_playoff_data[\"TEAM_ID\"] == opp_id]\n",
    "        opp_series_data = opp_series_data[opp_series_data[\"SEASON\"] == row[\"SEASON\"]]\n",
    "        print(row[\"MATCHUP\"])\n",
    "        print(invert_matchup(row[\"MATCHUP\"]))\n",
    "        opp_series_data = opp_series_data[opp_series_data[\"MATCHUP\"] == invert_matchup(row[\"MATCHUP\"])]\n",
    "        if len(opp_series_data) > 0:\n",
    "            \n",
    "            #Get opponent total bench points\n",
    "            opp_tot_bench_pts = opp_series_data[\"TOTAL_BENCH_PTS\"].tolist()[0]\n",
    "\n",
    "            #Get opponent bench point proportion\n",
    "            opp_bench_pt_prop = opp_tot_bench_pts / opp_series_data[\"TOTAL_PTS\"].tolist()[0]\n",
    "\n",
    "            #Series bench pt prop\n",
    "            series_prop = row[\"TOTAL_BENCH_PTS\"] / row[\"TOTAL_PTS\"]\n",
    "            series_bench_pts_prop.append(series_prop)\n",
    "\n",
    "            #Get regular season bench point proportion\n",
    "            reg_season_data = rel_prop_data[rel_prop_data[\"TEAM_ID\"] == row[\"TEAM_ID\"]]\n",
    "            reg_season_data = reg_season_data[reg_season_data[\"SEASON\"] == row[\"SEASON\"]]\n",
    "            reg_season_prop = reg_season_data[\"REL_BENCH_PROP\"].tolist()[0]\n",
    "            reg_season_bench_pts_prop.append(reg_season_prop)\n",
    "\n",
    "            #Get percent change from regular season bench point prop \n",
    "            reg_season_playoff_change.append((series_prop - reg_season_prop) / series_prop)\n",
    "\n",
    "\n",
    "            #Get team/opponent difference in raw bench points\n",
    "            team_opp_tot_bench_diff.append(row[\"TOTAL_BENCH_PTS\"] - opp_tot_bench_pts)\n",
    "\n",
    "            #Get team/opponent change in proportion of points from bench\n",
    "            team_opp_bench_prop_change.append((series_prop - opp_bench_pt_prop) / opp_bench_pt_prop)\n",
    "\n",
    "            #Get win or loss\n",
    "            w_or_l.append(row[\"WL\"])\n",
    "            \n",
    "            #Get total points difference\n",
    "            tot_pts_diff.append(row[\"TOTAL_PTS\"] - opp_series_data[\"TOTAL_PTS\"].tolist()[0])\n",
    "\n",
    "\n",
    "polished_playoff_data = {}\n",
    "polished_playoff_data[\"REG_SEASON_BENCH_PROP\"] = reg_season_bench_pts_prop\n",
    "polished_playoff_data[\"SERIES_BENCH_PROP\"] = series_bench_pts_prop\n",
    "polished_playoff_data[\"REG_SEASON_PLAYOFF_PROP_CHANGE\"] = reg_season_playoff_change\n",
    "polished_playoff_data[\"TEAM_OPP_BENCH_PTS_DIFF\"] = team_opp_tot_bench_diff\n",
    "polished_playoff_data[\"TEAM_OPP_BENCH_PROP_CHG\"] = team_opp_bench_prop_change\n",
    "polished_playoff_data[\"WL\"] = w_or_l\n",
    "polished_playoff_data[\"TOT_PTS_DIFF\"] = tot_pts_diff\n",
    "\n",
    "polished_playoff_data = pd.DataFrame(polished_playoff_data)\n",
    "    "
   ]
  },
  {
   "cell_type": "code",
   "execution_count": 71,
   "id": "c4f87549",
   "metadata": {},
   "outputs": [
    {
     "name": "stdout",
     "output_type": "stream",
     "text": [
      "     REG_SEASON_BENCH_PROP  SERIES_BENCH_PROP  REG_SEASON_PLAYOFF_PROP_CHANGE  \\\n",
      "0                -0.707288           0.224820                        4.146017   \n",
      "1                -0.707288           0.245902                        3.876305   \n",
      "2                -0.707288           0.247706                        3.855348   \n",
      "3                 0.802179           0.319788                       -1.508471   \n",
      "4                -1.991467           0.199161                       10.999262   \n",
      "..                     ...                ...                             ...   \n",
      "346              -1.761815           0.162930                       11.813340   \n",
      "347              -2.164769           0.274637                        8.882306   \n",
      "348               0.467584           0.284512                       -0.643459   \n",
      "349              -2.050428           0.216387                       10.475767   \n",
      "350               0.061673           0.305455                        0.798096   \n",
      "\n",
      "     TEAM_OPP_BENCH_PTS_DIFF  TEAM_OPP_BENCH_PROP_CHG  WL  TOT_PTS_DIFF  \n",
      "0                          4                -0.044979   1            42  \n",
      "1                        -38                -0.298091   1            37  \n",
      "2                         28                 0.384060   0           -11  \n",
      "3                          9                 0.087651   0           -19  \n",
      "4                        -28                -0.263265   1            22  \n",
      "..                       ...                      ...  ..           ...  \n",
      "346                      -61                -0.406744   1            50  \n",
      "347                       61                 0.685613   0           -50  \n",
      "348                       22                 0.215465   0           -34  \n",
      "349                      -46                -0.202710   0           -73  \n",
      "350                      -48                -0.165657   0           -40  \n",
      "\n",
      "[351 rows x 7 columns]\n"
     ]
    }
   ],
   "source": [
    "print(polished_playoff_data)"
   ]
  },
  {
   "cell_type": "code",
   "execution_count": 68,
   "id": "4bc7dd4d",
   "metadata": {},
   "outputs": [],
   "source": [
    "polished_playoff_data.to_csv(\"Data/Polished/POLISHED_PLAYOFF_DATA.csv\")"
   ]
  },
  {
   "cell_type": "code",
   "execution_count": null,
   "id": "38dc9ac0",
   "metadata": {},
   "outputs": [],
   "source": [
    "\"\"\"\n",
    "Next let's compute probabilities of winning for intervals of independent variables\n",
    "\"\"\""
   ]
  },
  {
   "cell_type": "code",
   "execution_count": 72,
   "id": "9eed6cea",
   "metadata": {},
   "outputs": [
    {
     "name": "stdout",
     "output_type": "stream",
     "text": [
      "-0.6337456513335911\n",
      "1.730343007915567\n"
     ]
    }
   ],
   "source": [
    "#First, let's look at TEAM_OPP_BENCH_PROP_CHG\n",
    "print(np.min(polished_playoff_data[\"TEAM_OPP_BENCH_PROP_CHG\"]))\n",
    "print(np.max(polished_playoff_data[\"TEAM_OPP_BENCH_PROP_CHG\"]))"
   ]
  },
  {
   "cell_type": "code",
   "execution_count": 90,
   "id": "a5f1a071",
   "metadata": {},
   "outputs": [],
   "source": [
    "#Split it up into bins of .25 from -.5 to 1.75\n",
    "intervals = []\n",
    "probs = []\n",
    "\n",
    "lower_bound = -.5\n",
    "while lower_bound <= 1.5:\n",
    "    upper_bound = lower_bound + .25\n",
    "    \n",
    "    matches = polished_playoff_data[polished_playoff_data[\"TEAM_OPP_BENCH_PROP_CHG\"] >= lower_bound]\n",
    "    matches = polished_playoff_data[polished_playoff_data[\"TEAM_OPP_BENCH_PROP_CHG\"] < upper_bound]\n",
    "    \n",
    "    if len(matches) > 0:\n",
    "        intervals.append(\"[\" + str(lower_bound) + \", \" + str(upper_bound) + \")\")\n",
    "        \n",
    "        num_wins = len(matches[matches[\"WL\"] == 1])\n",
    "        probs.append(num_wins / len(matches))\n",
    "    \n",
    "    lower_bound += 0.25\n",
    "    \n",
    "TEAM_OPP_BENCH_PROP_CHG_PROBS = pd.DataFrame({\"INTERVAL\": intervals, \"PROB_WIN_SERIES\": probs})"
   ]
  },
  {
   "cell_type": "code",
   "execution_count": 91,
   "id": "c31f0fee",
   "metadata": {},
   "outputs": [],
   "source": [
    "TEAM_OPP_BENCH_PROP_CHG_PROBS.to_csv(\"Results/TEAM_OPP_BENCH_PROP_CHG_PROBS.csv\")"
   ]
  },
  {
   "cell_type": "code",
   "execution_count": 92,
   "id": "d96df4a8",
   "metadata": {},
   "outputs": [
    {
     "name": "stdout",
     "output_type": "stream",
     "text": [
      "        INTERVAL  PROB_WIN_SERIES\n",
      "0  [-0.5, -0.25)         0.618421\n",
      "1   [-0.25, 0.0)         0.568182\n",
      "2    [0.0, 0.25)         0.540856\n",
      "3    [0.25, 0.5)         0.522727\n",
      "4    [0.5, 0.75)         0.510511\n",
      "5    [0.75, 1.0)         0.504373\n",
      "6    [1.0, 1.25)         0.501441\n",
      "7    [1.25, 1.5)         0.498567\n",
      "8    [1.5, 1.75)         0.498575\n"
     ]
    }
   ],
   "source": [
    "print(TEAM_OPP_BENCH_PROP_CHG_PROBS)"
   ]
  },
  {
   "cell_type": "code",
   "execution_count": 93,
   "id": "36f936d8",
   "metadata": {},
   "outputs": [
    {
     "data": {
      "application/vnd.plotly.v1+json": {
       "config": {
        "plotlyServerURL": "https://plot.ly"
       },
       "data": [
        {
         "hovertemplate": "x=%{x}<br>index=%{y}<extra></extra>",
         "legendgroup": "",
         "marker": {
          "color": "#636efa",
          "symbol": "circle"
         },
         "mode": "markers",
         "name": "",
         "orientation": "h",
         "showlegend": false,
         "type": "scatter",
         "x": [
          0.618421052631579,
          0.5681818181818182,
          0.5408560311284046,
          0.5227272727272727,
          0.5105105105105106,
          0.5043731778425656,
          0.5014409221902018,
          0.498567335243553,
          0.4985754985754986
         ],
         "xaxis": "x",
         "y": [
          0,
          1,
          2,
          3,
          4,
          5,
          6,
          7,
          8
         ],
         "yaxis": "y"
        }
       ],
       "layout": {
        "legend": {
         "tracegroupgap": 0
        },
        "margin": {
         "t": 60
        },
        "template": {
         "data": {
          "bar": [
           {
            "error_x": {
             "color": "#2a3f5f"
            },
            "error_y": {
             "color": "#2a3f5f"
            },
            "marker": {
             "line": {
              "color": "#E5ECF6",
              "width": 0.5
             },
             "pattern": {
              "fillmode": "overlay",
              "size": 10,
              "solidity": 0.2
             }
            },
            "type": "bar"
           }
          ],
          "barpolar": [
           {
            "marker": {
             "line": {
              "color": "#E5ECF6",
              "width": 0.5
             },
             "pattern": {
              "fillmode": "overlay",
              "size": 10,
              "solidity": 0.2
             }
            },
            "type": "barpolar"
           }
          ],
          "carpet": [
           {
            "aaxis": {
             "endlinecolor": "#2a3f5f",
             "gridcolor": "white",
             "linecolor": "white",
             "minorgridcolor": "white",
             "startlinecolor": "#2a3f5f"
            },
            "baxis": {
             "endlinecolor": "#2a3f5f",
             "gridcolor": "white",
             "linecolor": "white",
             "minorgridcolor": "white",
             "startlinecolor": "#2a3f5f"
            },
            "type": "carpet"
           }
          ],
          "choropleth": [
           {
            "colorbar": {
             "outlinewidth": 0,
             "ticks": ""
            },
            "type": "choropleth"
           }
          ],
          "contour": [
           {
            "colorbar": {
             "outlinewidth": 0,
             "ticks": ""
            },
            "colorscale": [
             [
              0,
              "#0d0887"
             ],
             [
              0.1111111111111111,
              "#46039f"
             ],
             [
              0.2222222222222222,
              "#7201a8"
             ],
             [
              0.3333333333333333,
              "#9c179e"
             ],
             [
              0.4444444444444444,
              "#bd3786"
             ],
             [
              0.5555555555555556,
              "#d8576b"
             ],
             [
              0.6666666666666666,
              "#ed7953"
             ],
             [
              0.7777777777777778,
              "#fb9f3a"
             ],
             [
              0.8888888888888888,
              "#fdca26"
             ],
             [
              1,
              "#f0f921"
             ]
            ],
            "type": "contour"
           }
          ],
          "contourcarpet": [
           {
            "colorbar": {
             "outlinewidth": 0,
             "ticks": ""
            },
            "type": "contourcarpet"
           }
          ],
          "heatmap": [
           {
            "colorbar": {
             "outlinewidth": 0,
             "ticks": ""
            },
            "colorscale": [
             [
              0,
              "#0d0887"
             ],
             [
              0.1111111111111111,
              "#46039f"
             ],
             [
              0.2222222222222222,
              "#7201a8"
             ],
             [
              0.3333333333333333,
              "#9c179e"
             ],
             [
              0.4444444444444444,
              "#bd3786"
             ],
             [
              0.5555555555555556,
              "#d8576b"
             ],
             [
              0.6666666666666666,
              "#ed7953"
             ],
             [
              0.7777777777777778,
              "#fb9f3a"
             ],
             [
              0.8888888888888888,
              "#fdca26"
             ],
             [
              1,
              "#f0f921"
             ]
            ],
            "type": "heatmap"
           }
          ],
          "heatmapgl": [
           {
            "colorbar": {
             "outlinewidth": 0,
             "ticks": ""
            },
            "colorscale": [
             [
              0,
              "#0d0887"
             ],
             [
              0.1111111111111111,
              "#46039f"
             ],
             [
              0.2222222222222222,
              "#7201a8"
             ],
             [
              0.3333333333333333,
              "#9c179e"
             ],
             [
              0.4444444444444444,
              "#bd3786"
             ],
             [
              0.5555555555555556,
              "#d8576b"
             ],
             [
              0.6666666666666666,
              "#ed7953"
             ],
             [
              0.7777777777777778,
              "#fb9f3a"
             ],
             [
              0.8888888888888888,
              "#fdca26"
             ],
             [
              1,
              "#f0f921"
             ]
            ],
            "type": "heatmapgl"
           }
          ],
          "histogram": [
           {
            "marker": {
             "pattern": {
              "fillmode": "overlay",
              "size": 10,
              "solidity": 0.2
             }
            },
            "type": "histogram"
           }
          ],
          "histogram2d": [
           {
            "colorbar": {
             "outlinewidth": 0,
             "ticks": ""
            },
            "colorscale": [
             [
              0,
              "#0d0887"
             ],
             [
              0.1111111111111111,
              "#46039f"
             ],
             [
              0.2222222222222222,
              "#7201a8"
             ],
             [
              0.3333333333333333,
              "#9c179e"
             ],
             [
              0.4444444444444444,
              "#bd3786"
             ],
             [
              0.5555555555555556,
              "#d8576b"
             ],
             [
              0.6666666666666666,
              "#ed7953"
             ],
             [
              0.7777777777777778,
              "#fb9f3a"
             ],
             [
              0.8888888888888888,
              "#fdca26"
             ],
             [
              1,
              "#f0f921"
             ]
            ],
            "type": "histogram2d"
           }
          ],
          "histogram2dcontour": [
           {
            "colorbar": {
             "outlinewidth": 0,
             "ticks": ""
            },
            "colorscale": [
             [
              0,
              "#0d0887"
             ],
             [
              0.1111111111111111,
              "#46039f"
             ],
             [
              0.2222222222222222,
              "#7201a8"
             ],
             [
              0.3333333333333333,
              "#9c179e"
             ],
             [
              0.4444444444444444,
              "#bd3786"
             ],
             [
              0.5555555555555556,
              "#d8576b"
             ],
             [
              0.6666666666666666,
              "#ed7953"
             ],
             [
              0.7777777777777778,
              "#fb9f3a"
             ],
             [
              0.8888888888888888,
              "#fdca26"
             ],
             [
              1,
              "#f0f921"
             ]
            ],
            "type": "histogram2dcontour"
           }
          ],
          "mesh3d": [
           {
            "colorbar": {
             "outlinewidth": 0,
             "ticks": ""
            },
            "type": "mesh3d"
           }
          ],
          "parcoords": [
           {
            "line": {
             "colorbar": {
              "outlinewidth": 0,
              "ticks": ""
             }
            },
            "type": "parcoords"
           }
          ],
          "pie": [
           {
            "automargin": true,
            "type": "pie"
           }
          ],
          "scatter": [
           {
            "fillpattern": {
             "fillmode": "overlay",
             "size": 10,
             "solidity": 0.2
            },
            "type": "scatter"
           }
          ],
          "scatter3d": [
           {
            "line": {
             "colorbar": {
              "outlinewidth": 0,
              "ticks": ""
             }
            },
            "marker": {
             "colorbar": {
              "outlinewidth": 0,
              "ticks": ""
             }
            },
            "type": "scatter3d"
           }
          ],
          "scattercarpet": [
           {
            "marker": {
             "colorbar": {
              "outlinewidth": 0,
              "ticks": ""
             }
            },
            "type": "scattercarpet"
           }
          ],
          "scattergeo": [
           {
            "marker": {
             "colorbar": {
              "outlinewidth": 0,
              "ticks": ""
             }
            },
            "type": "scattergeo"
           }
          ],
          "scattergl": [
           {
            "marker": {
             "colorbar": {
              "outlinewidth": 0,
              "ticks": ""
             }
            },
            "type": "scattergl"
           }
          ],
          "scattermapbox": [
           {
            "marker": {
             "colorbar": {
              "outlinewidth": 0,
              "ticks": ""
             }
            },
            "type": "scattermapbox"
           }
          ],
          "scatterpolar": [
           {
            "marker": {
             "colorbar": {
              "outlinewidth": 0,
              "ticks": ""
             }
            },
            "type": "scatterpolar"
           }
          ],
          "scatterpolargl": [
           {
            "marker": {
             "colorbar": {
              "outlinewidth": 0,
              "ticks": ""
             }
            },
            "type": "scatterpolargl"
           }
          ],
          "scatterternary": [
           {
            "marker": {
             "colorbar": {
              "outlinewidth": 0,
              "ticks": ""
             }
            },
            "type": "scatterternary"
           }
          ],
          "surface": [
           {
            "colorbar": {
             "outlinewidth": 0,
             "ticks": ""
            },
            "colorscale": [
             [
              0,
              "#0d0887"
             ],
             [
              0.1111111111111111,
              "#46039f"
             ],
             [
              0.2222222222222222,
              "#7201a8"
             ],
             [
              0.3333333333333333,
              "#9c179e"
             ],
             [
              0.4444444444444444,
              "#bd3786"
             ],
             [
              0.5555555555555556,
              "#d8576b"
             ],
             [
              0.6666666666666666,
              "#ed7953"
             ],
             [
              0.7777777777777778,
              "#fb9f3a"
             ],
             [
              0.8888888888888888,
              "#fdca26"
             ],
             [
              1,
              "#f0f921"
             ]
            ],
            "type": "surface"
           }
          ],
          "table": [
           {
            "cells": {
             "fill": {
              "color": "#EBF0F8"
             },
             "line": {
              "color": "white"
             }
            },
            "header": {
             "fill": {
              "color": "#C8D4E3"
             },
             "line": {
              "color": "white"
             }
            },
            "type": "table"
           }
          ]
         },
         "layout": {
          "annotationdefaults": {
           "arrowcolor": "#2a3f5f",
           "arrowhead": 0,
           "arrowwidth": 1
          },
          "autotypenumbers": "strict",
          "coloraxis": {
           "colorbar": {
            "outlinewidth": 0,
            "ticks": ""
           }
          },
          "colorscale": {
           "diverging": [
            [
             0,
             "#8e0152"
            ],
            [
             0.1,
             "#c51b7d"
            ],
            [
             0.2,
             "#de77ae"
            ],
            [
             0.3,
             "#f1b6da"
            ],
            [
             0.4,
             "#fde0ef"
            ],
            [
             0.5,
             "#f7f7f7"
            ],
            [
             0.6,
             "#e6f5d0"
            ],
            [
             0.7,
             "#b8e186"
            ],
            [
             0.8,
             "#7fbc41"
            ],
            [
             0.9,
             "#4d9221"
            ],
            [
             1,
             "#276419"
            ]
           ],
           "sequential": [
            [
             0,
             "#0d0887"
            ],
            [
             0.1111111111111111,
             "#46039f"
            ],
            [
             0.2222222222222222,
             "#7201a8"
            ],
            [
             0.3333333333333333,
             "#9c179e"
            ],
            [
             0.4444444444444444,
             "#bd3786"
            ],
            [
             0.5555555555555556,
             "#d8576b"
            ],
            [
             0.6666666666666666,
             "#ed7953"
            ],
            [
             0.7777777777777778,
             "#fb9f3a"
            ],
            [
             0.8888888888888888,
             "#fdca26"
            ],
            [
             1,
             "#f0f921"
            ]
           ],
           "sequentialminus": [
            [
             0,
             "#0d0887"
            ],
            [
             0.1111111111111111,
             "#46039f"
            ],
            [
             0.2222222222222222,
             "#7201a8"
            ],
            [
             0.3333333333333333,
             "#9c179e"
            ],
            [
             0.4444444444444444,
             "#bd3786"
            ],
            [
             0.5555555555555556,
             "#d8576b"
            ],
            [
             0.6666666666666666,
             "#ed7953"
            ],
            [
             0.7777777777777778,
             "#fb9f3a"
            ],
            [
             0.8888888888888888,
             "#fdca26"
            ],
            [
             1,
             "#f0f921"
            ]
           ]
          },
          "colorway": [
           "#636efa",
           "#EF553B",
           "#00cc96",
           "#ab63fa",
           "#FFA15A",
           "#19d3f3",
           "#FF6692",
           "#B6E880",
           "#FF97FF",
           "#FECB52"
          ],
          "font": {
           "color": "#2a3f5f"
          },
          "geo": {
           "bgcolor": "white",
           "lakecolor": "white",
           "landcolor": "#E5ECF6",
           "showlakes": true,
           "showland": true,
           "subunitcolor": "white"
          },
          "hoverlabel": {
           "align": "left"
          },
          "hovermode": "closest",
          "mapbox": {
           "style": "light"
          },
          "paper_bgcolor": "white",
          "plot_bgcolor": "#E5ECF6",
          "polar": {
           "angularaxis": {
            "gridcolor": "white",
            "linecolor": "white",
            "ticks": ""
           },
           "bgcolor": "#E5ECF6",
           "radialaxis": {
            "gridcolor": "white",
            "linecolor": "white",
            "ticks": ""
           }
          },
          "scene": {
           "xaxis": {
            "backgroundcolor": "#E5ECF6",
            "gridcolor": "white",
            "gridwidth": 2,
            "linecolor": "white",
            "showbackground": true,
            "ticks": "",
            "zerolinecolor": "white"
           },
           "yaxis": {
            "backgroundcolor": "#E5ECF6",
            "gridcolor": "white",
            "gridwidth": 2,
            "linecolor": "white",
            "showbackground": true,
            "ticks": "",
            "zerolinecolor": "white"
           },
           "zaxis": {
            "backgroundcolor": "#E5ECF6",
            "gridcolor": "white",
            "gridwidth": 2,
            "linecolor": "white",
            "showbackground": true,
            "ticks": "",
            "zerolinecolor": "white"
           }
          },
          "shapedefaults": {
           "line": {
            "color": "#2a3f5f"
           }
          },
          "ternary": {
           "aaxis": {
            "gridcolor": "white",
            "linecolor": "white",
            "ticks": ""
           },
           "baxis": {
            "gridcolor": "white",
            "linecolor": "white",
            "ticks": ""
           },
           "bgcolor": "#E5ECF6",
           "caxis": {
            "gridcolor": "white",
            "linecolor": "white",
            "ticks": ""
           }
          },
          "title": {
           "x": 0.05
          },
          "xaxis": {
           "automargin": true,
           "gridcolor": "white",
           "linecolor": "white",
           "ticks": "",
           "title": {
            "standoff": 15
           },
           "zerolinecolor": "white",
           "zerolinewidth": 2
          },
          "yaxis": {
           "automargin": true,
           "gridcolor": "white",
           "linecolor": "white",
           "ticks": "",
           "title": {
            "standoff": 15
           },
           "zerolinecolor": "white",
           "zerolinewidth": 2
          }
         }
        },
        "xaxis": {
         "anchor": "y",
         "domain": [
          0,
          1
         ],
         "title": {
          "text": "x"
         }
        },
        "yaxis": {
         "anchor": "x",
         "domain": [
          0,
          1
         ],
         "title": {
          "text": "index"
         }
        }
       }
      },
      "text/html": [
       "<div>                            <div id=\"dc3b0549-a152-47f6-a47b-3659e4865b62\" class=\"plotly-graph-div\" style=\"height:525px; width:100%;\"></div>            <script type=\"text/javascript\">                require([\"plotly\"], function(Plotly) {                    window.PLOTLYENV=window.PLOTLYENV || {};                                    if (document.getElementById(\"dc3b0549-a152-47f6-a47b-3659e4865b62\")) {                    Plotly.newPlot(                        \"dc3b0549-a152-47f6-a47b-3659e4865b62\",                        [{\"hovertemplate\":\"x=%{x}\\u003cbr\\u003eindex=%{y}\\u003cextra\\u003e\\u003c\\u002fextra\\u003e\",\"legendgroup\":\"\",\"marker\":{\"color\":\"#636efa\",\"symbol\":\"circle\"},\"mode\":\"markers\",\"name\":\"\",\"orientation\":\"h\",\"showlegend\":false,\"x\":[0.618421052631579,0.5681818181818182,0.5408560311284046,0.5227272727272727,0.5105105105105106,0.5043731778425656,0.5014409221902018,0.498567335243553,0.4985754985754986],\"xaxis\":\"x\",\"y\":[0,1,2,3,4,5,6,7,8],\"yaxis\":\"y\",\"type\":\"scatter\"}],                        {\"template\":{\"data\":{\"histogram2dcontour\":[{\"type\":\"histogram2dcontour\",\"colorbar\":{\"outlinewidth\":0,\"ticks\":\"\"},\"colorscale\":[[0.0,\"#0d0887\"],[0.1111111111111111,\"#46039f\"],[0.2222222222222222,\"#7201a8\"],[0.3333333333333333,\"#9c179e\"],[0.4444444444444444,\"#bd3786\"],[0.5555555555555556,\"#d8576b\"],[0.6666666666666666,\"#ed7953\"],[0.7777777777777778,\"#fb9f3a\"],[0.8888888888888888,\"#fdca26\"],[1.0,\"#f0f921\"]]}],\"choropleth\":[{\"type\":\"choropleth\",\"colorbar\":{\"outlinewidth\":0,\"ticks\":\"\"}}],\"histogram2d\":[{\"type\":\"histogram2d\",\"colorbar\":{\"outlinewidth\":0,\"ticks\":\"\"},\"colorscale\":[[0.0,\"#0d0887\"],[0.1111111111111111,\"#46039f\"],[0.2222222222222222,\"#7201a8\"],[0.3333333333333333,\"#9c179e\"],[0.4444444444444444,\"#bd3786\"],[0.5555555555555556,\"#d8576b\"],[0.6666666666666666,\"#ed7953\"],[0.7777777777777778,\"#fb9f3a\"],[0.8888888888888888,\"#fdca26\"],[1.0,\"#f0f921\"]]}],\"heatmap\":[{\"type\":\"heatmap\",\"colorbar\":{\"outlinewidth\":0,\"ticks\":\"\"},\"colorscale\":[[0.0,\"#0d0887\"],[0.1111111111111111,\"#46039f\"],[0.2222222222222222,\"#7201a8\"],[0.3333333333333333,\"#9c179e\"],[0.4444444444444444,\"#bd3786\"],[0.5555555555555556,\"#d8576b\"],[0.6666666666666666,\"#ed7953\"],[0.7777777777777778,\"#fb9f3a\"],[0.8888888888888888,\"#fdca26\"],[1.0,\"#f0f921\"]]}],\"heatmapgl\":[{\"type\":\"heatmapgl\",\"colorbar\":{\"outlinewidth\":0,\"ticks\":\"\"},\"colorscale\":[[0.0,\"#0d0887\"],[0.1111111111111111,\"#46039f\"],[0.2222222222222222,\"#7201a8\"],[0.3333333333333333,\"#9c179e\"],[0.4444444444444444,\"#bd3786\"],[0.5555555555555556,\"#d8576b\"],[0.6666666666666666,\"#ed7953\"],[0.7777777777777778,\"#fb9f3a\"],[0.8888888888888888,\"#fdca26\"],[1.0,\"#f0f921\"]]}],\"contourcarpet\":[{\"type\":\"contourcarpet\",\"colorbar\":{\"outlinewidth\":0,\"ticks\":\"\"}}],\"contour\":[{\"type\":\"contour\",\"colorbar\":{\"outlinewidth\":0,\"ticks\":\"\"},\"colorscale\":[[0.0,\"#0d0887\"],[0.1111111111111111,\"#46039f\"],[0.2222222222222222,\"#7201a8\"],[0.3333333333333333,\"#9c179e\"],[0.4444444444444444,\"#bd3786\"],[0.5555555555555556,\"#d8576b\"],[0.6666666666666666,\"#ed7953\"],[0.7777777777777778,\"#fb9f3a\"],[0.8888888888888888,\"#fdca26\"],[1.0,\"#f0f921\"]]}],\"surface\":[{\"type\":\"surface\",\"colorbar\":{\"outlinewidth\":0,\"ticks\":\"\"},\"colorscale\":[[0.0,\"#0d0887\"],[0.1111111111111111,\"#46039f\"],[0.2222222222222222,\"#7201a8\"],[0.3333333333333333,\"#9c179e\"],[0.4444444444444444,\"#bd3786\"],[0.5555555555555556,\"#d8576b\"],[0.6666666666666666,\"#ed7953\"],[0.7777777777777778,\"#fb9f3a\"],[0.8888888888888888,\"#fdca26\"],[1.0,\"#f0f921\"]]}],\"mesh3d\":[{\"type\":\"mesh3d\",\"colorbar\":{\"outlinewidth\":0,\"ticks\":\"\"}}],\"scatter\":[{\"fillpattern\":{\"fillmode\":\"overlay\",\"size\":10,\"solidity\":0.2},\"type\":\"scatter\"}],\"parcoords\":[{\"type\":\"parcoords\",\"line\":{\"colorbar\":{\"outlinewidth\":0,\"ticks\":\"\"}}}],\"scatterpolargl\":[{\"type\":\"scatterpolargl\",\"marker\":{\"colorbar\":{\"outlinewidth\":0,\"ticks\":\"\"}}}],\"bar\":[{\"error_x\":{\"color\":\"#2a3f5f\"},\"error_y\":{\"color\":\"#2a3f5f\"},\"marker\":{\"line\":{\"color\":\"#E5ECF6\",\"width\":0.5},\"pattern\":{\"fillmode\":\"overlay\",\"size\":10,\"solidity\":0.2}},\"type\":\"bar\"}],\"scattergeo\":[{\"type\":\"scattergeo\",\"marker\":{\"colorbar\":{\"outlinewidth\":0,\"ticks\":\"\"}}}],\"scatterpolar\":[{\"type\":\"scatterpolar\",\"marker\":{\"colorbar\":{\"outlinewidth\":0,\"ticks\":\"\"}}}],\"histogram\":[{\"marker\":{\"pattern\":{\"fillmode\":\"overlay\",\"size\":10,\"solidity\":0.2}},\"type\":\"histogram\"}],\"scattergl\":[{\"type\":\"scattergl\",\"marker\":{\"colorbar\":{\"outlinewidth\":0,\"ticks\":\"\"}}}],\"scatter3d\":[{\"type\":\"scatter3d\",\"line\":{\"colorbar\":{\"outlinewidth\":0,\"ticks\":\"\"}},\"marker\":{\"colorbar\":{\"outlinewidth\":0,\"ticks\":\"\"}}}],\"scattermapbox\":[{\"type\":\"scattermapbox\",\"marker\":{\"colorbar\":{\"outlinewidth\":0,\"ticks\":\"\"}}}],\"scatterternary\":[{\"type\":\"scatterternary\",\"marker\":{\"colorbar\":{\"outlinewidth\":0,\"ticks\":\"\"}}}],\"scattercarpet\":[{\"type\":\"scattercarpet\",\"marker\":{\"colorbar\":{\"outlinewidth\":0,\"ticks\":\"\"}}}],\"carpet\":[{\"aaxis\":{\"endlinecolor\":\"#2a3f5f\",\"gridcolor\":\"white\",\"linecolor\":\"white\",\"minorgridcolor\":\"white\",\"startlinecolor\":\"#2a3f5f\"},\"baxis\":{\"endlinecolor\":\"#2a3f5f\",\"gridcolor\":\"white\",\"linecolor\":\"white\",\"minorgridcolor\":\"white\",\"startlinecolor\":\"#2a3f5f\"},\"type\":\"carpet\"}],\"table\":[{\"cells\":{\"fill\":{\"color\":\"#EBF0F8\"},\"line\":{\"color\":\"white\"}},\"header\":{\"fill\":{\"color\":\"#C8D4E3\"},\"line\":{\"color\":\"white\"}},\"type\":\"table\"}],\"barpolar\":[{\"marker\":{\"line\":{\"color\":\"#E5ECF6\",\"width\":0.5},\"pattern\":{\"fillmode\":\"overlay\",\"size\":10,\"solidity\":0.2}},\"type\":\"barpolar\"}],\"pie\":[{\"automargin\":true,\"type\":\"pie\"}]},\"layout\":{\"autotypenumbers\":\"strict\",\"colorway\":[\"#636efa\",\"#EF553B\",\"#00cc96\",\"#ab63fa\",\"#FFA15A\",\"#19d3f3\",\"#FF6692\",\"#B6E880\",\"#FF97FF\",\"#FECB52\"],\"font\":{\"color\":\"#2a3f5f\"},\"hovermode\":\"closest\",\"hoverlabel\":{\"align\":\"left\"},\"paper_bgcolor\":\"white\",\"plot_bgcolor\":\"#E5ECF6\",\"polar\":{\"bgcolor\":\"#E5ECF6\",\"angularaxis\":{\"gridcolor\":\"white\",\"linecolor\":\"white\",\"ticks\":\"\"},\"radialaxis\":{\"gridcolor\":\"white\",\"linecolor\":\"white\",\"ticks\":\"\"}},\"ternary\":{\"bgcolor\":\"#E5ECF6\",\"aaxis\":{\"gridcolor\":\"white\",\"linecolor\":\"white\",\"ticks\":\"\"},\"baxis\":{\"gridcolor\":\"white\",\"linecolor\":\"white\",\"ticks\":\"\"},\"caxis\":{\"gridcolor\":\"white\",\"linecolor\":\"white\",\"ticks\":\"\"}},\"coloraxis\":{\"colorbar\":{\"outlinewidth\":0,\"ticks\":\"\"}},\"colorscale\":{\"sequential\":[[0.0,\"#0d0887\"],[0.1111111111111111,\"#46039f\"],[0.2222222222222222,\"#7201a8\"],[0.3333333333333333,\"#9c179e\"],[0.4444444444444444,\"#bd3786\"],[0.5555555555555556,\"#d8576b\"],[0.6666666666666666,\"#ed7953\"],[0.7777777777777778,\"#fb9f3a\"],[0.8888888888888888,\"#fdca26\"],[1.0,\"#f0f921\"]],\"sequentialminus\":[[0.0,\"#0d0887\"],[0.1111111111111111,\"#46039f\"],[0.2222222222222222,\"#7201a8\"],[0.3333333333333333,\"#9c179e\"],[0.4444444444444444,\"#bd3786\"],[0.5555555555555556,\"#d8576b\"],[0.6666666666666666,\"#ed7953\"],[0.7777777777777778,\"#fb9f3a\"],[0.8888888888888888,\"#fdca26\"],[1.0,\"#f0f921\"]],\"diverging\":[[0,\"#8e0152\"],[0.1,\"#c51b7d\"],[0.2,\"#de77ae\"],[0.3,\"#f1b6da\"],[0.4,\"#fde0ef\"],[0.5,\"#f7f7f7\"],[0.6,\"#e6f5d0\"],[0.7,\"#b8e186\"],[0.8,\"#7fbc41\"],[0.9,\"#4d9221\"],[1,\"#276419\"]]},\"xaxis\":{\"gridcolor\":\"white\",\"linecolor\":\"white\",\"ticks\":\"\",\"title\":{\"standoff\":15},\"zerolinecolor\":\"white\",\"automargin\":true,\"zerolinewidth\":2},\"yaxis\":{\"gridcolor\":\"white\",\"linecolor\":\"white\",\"ticks\":\"\",\"title\":{\"standoff\":15},\"zerolinecolor\":\"white\",\"automargin\":true,\"zerolinewidth\":2},\"scene\":{\"xaxis\":{\"backgroundcolor\":\"#E5ECF6\",\"gridcolor\":\"white\",\"linecolor\":\"white\",\"showbackground\":true,\"ticks\":\"\",\"zerolinecolor\":\"white\",\"gridwidth\":2},\"yaxis\":{\"backgroundcolor\":\"#E5ECF6\",\"gridcolor\":\"white\",\"linecolor\":\"white\",\"showbackground\":true,\"ticks\":\"\",\"zerolinecolor\":\"white\",\"gridwidth\":2},\"zaxis\":{\"backgroundcolor\":\"#E5ECF6\",\"gridcolor\":\"white\",\"linecolor\":\"white\",\"showbackground\":true,\"ticks\":\"\",\"zerolinecolor\":\"white\",\"gridwidth\":2}},\"shapedefaults\":{\"line\":{\"color\":\"#2a3f5f\"}},\"annotationdefaults\":{\"arrowcolor\":\"#2a3f5f\",\"arrowhead\":0,\"arrowwidth\":1},\"geo\":{\"bgcolor\":\"white\",\"landcolor\":\"#E5ECF6\",\"subunitcolor\":\"white\",\"showland\":true,\"showlakes\":true,\"lakecolor\":\"white\"},\"title\":{\"x\":0.05},\"mapbox\":{\"style\":\"light\"}}},\"xaxis\":{\"anchor\":\"y\",\"domain\":[0.0,1.0],\"title\":{\"text\":\"x\"}},\"yaxis\":{\"anchor\":\"x\",\"domain\":[0.0,1.0],\"title\":{\"text\":\"index\"}},\"legend\":{\"tracegroupgap\":0},\"margin\":{\"t\":60}},                        {\"responsive\": true}                    ).then(function(){\n",
       "                            \n",
       "var gd = document.getElementById('dc3b0549-a152-47f6-a47b-3659e4865b62');\n",
       "var x = new MutationObserver(function (mutations, observer) {{\n",
       "        var display = window.getComputedStyle(gd).display;\n",
       "        if (!display || display === 'none') {{\n",
       "            console.log([gd, 'removed!']);\n",
       "            Plotly.purge(gd);\n",
       "            observer.disconnect();\n",
       "        }}\n",
       "}});\n",
       "\n",
       "// Listen for the removal of the full notebook cells\n",
       "var notebookContainer = gd.closest('#notebook-container');\n",
       "if (notebookContainer) {{\n",
       "    x.observe(notebookContainer, {childList: true});\n",
       "}}\n",
       "\n",
       "// Listen for the clearing of the current output cell\n",
       "var outputEl = gd.closest('.output');\n",
       "if (outputEl) {{\n",
       "    x.observe(outputEl, {childList: true});\n",
       "}}\n",
       "\n",
       "                        })                };                });            </script>        </div>"
      ]
     },
     "metadata": {},
     "output_type": "display_data"
    }
   ],
   "source": [
    "px.scatter(intervals, probs)"
   ]
  },
  {
   "cell_type": "code",
   "execution_count": 83,
   "id": "e2c548b4",
   "metadata": {},
   "outputs": [
    {
     "name": "stdout",
     "output_type": "stream",
     "text": [
      "-5.680189936802384\n",
      "16.385670314717768\n"
     ]
    }
   ],
   "source": [
    "#Second, let's look at REG_SEASON_PLAYOFF_PROP_CHANGE\n",
    "print(np.min(polished_playoff_data[\"REG_SEASON_PLAYOFF_PROP_CHANGE\"]))\n",
    "print(np.max(polished_playoff_data[\"REG_SEASON_PLAYOFF_PROP_CHANGE\"]))"
   ]
  },
  {
   "cell_type": "code",
   "execution_count": 84,
   "id": "9d0538ea",
   "metadata": {},
   "outputs": [],
   "source": [
    "#Let's do intervals of .5 from -6 to 16\n",
    "intervals = []\n",
    "probs = []\n",
    "\n",
    "lower_bound = -6\n",
    "while lower_bound <= 15.5:\n",
    "    upper_bound = lower_bound + .5\n",
    "    \n",
    "    matches = polished_playoff_data[polished_playoff_data[\"REG_SEASON_PLAYOFF_PROP_CHANGE\"] >= lower_bound]\n",
    "    matches = polished_playoff_data[polished_playoff_data[\"REG_SEASON_PLAYOFF_PROP_CHANGE\"] < upper_bound]\n",
    "    \n",
    "    if len(matches) > 0:\n",
    "        intervals.append(\"[\" + str(lower_bound) + \", \" + str(upper_bound) + \")\")\n",
    "        \n",
    "        num_wins = len(matches[matches[\"WL\"] == 1])\n",
    "        probs.append(num_wins / len(matches))\n",
    "    \n",
    "    lower_bound += 0.5\n",
    "    \n",
    "REG_SEASON_PLAYOFF_PROP_CHANGE_PROBS = pd.DataFrame({\"INTERVAL\": intervals, \"PROB_WIN_SERIES\": probs})"
   ]
  },
  {
   "cell_type": "code",
   "execution_count": 85,
   "id": "2b6e86e8",
   "metadata": {},
   "outputs": [
    {
     "data": {
      "application/vnd.plotly.v1+json": {
       "config": {
        "plotlyServerURL": "https://plot.ly"
       },
       "data": [
        {
         "hovertemplate": "x=%{x}<br>index=%{y}<extra></extra>",
         "legendgroup": "",
         "marker": {
          "color": "#636efa",
          "symbol": "circle"
         },
         "mode": "markers",
         "name": "",
         "orientation": "h",
         "showlegend": false,
         "type": "scatter",
         "x": [
          1,
          1,
          0.6666666666666666,
          0.7692307692307693,
          0.6470588235294118,
          0.6,
          0.5555555555555556,
          0.5142857142857142,
          0.4375,
          0.46551724137931033,
          0.4142857142857143,
          0.39285714285714285,
          0.4270833333333333,
          0.41284403669724773,
          0.4015151515151515,
          0.4178082191780822,
          0.4329268292682927,
          0.4479166666666667,
          0.4494949494949495,
          0.4532710280373832,
          0.45726495726495725,
          0.4672131147540984,
          0.4763779527559055,
          0.4797047970479705,
          0.4875444839857651,
          0.4827586206896552,
          0.48484848484848486,
          0.48514851485148514,
          0.4852459016393443,
          0.4887459807073955,
          0.496875,
          0.4954128440366973,
          0.49096385542168675,
          0.4955223880597015,
          0.4955223880597015,
          0.49853372434017595,
          0.5014492753623189,
          0.49855907780979825,
          0.5,
          0.498567335243553,
          0.498567335243553,
          0.5,
          0.5,
          0.5
         ],
         "xaxis": "x",
         "y": [
          0,
          1,
          2,
          3,
          4,
          5,
          6,
          7,
          8,
          9,
          10,
          11,
          12,
          13,
          14,
          15,
          16,
          17,
          18,
          19,
          20,
          21,
          22,
          23,
          24,
          25,
          26,
          27,
          28,
          29,
          30,
          31,
          32,
          33,
          34,
          35,
          36,
          37,
          38,
          39,
          40,
          41,
          42,
          43
         ],
         "yaxis": "y"
        }
       ],
       "layout": {
        "legend": {
         "tracegroupgap": 0
        },
        "margin": {
         "t": 60
        },
        "template": {
         "data": {
          "bar": [
           {
            "error_x": {
             "color": "#2a3f5f"
            },
            "error_y": {
             "color": "#2a3f5f"
            },
            "marker": {
             "line": {
              "color": "#E5ECF6",
              "width": 0.5
             },
             "pattern": {
              "fillmode": "overlay",
              "size": 10,
              "solidity": 0.2
             }
            },
            "type": "bar"
           }
          ],
          "barpolar": [
           {
            "marker": {
             "line": {
              "color": "#E5ECF6",
              "width": 0.5
             },
             "pattern": {
              "fillmode": "overlay",
              "size": 10,
              "solidity": 0.2
             }
            },
            "type": "barpolar"
           }
          ],
          "carpet": [
           {
            "aaxis": {
             "endlinecolor": "#2a3f5f",
             "gridcolor": "white",
             "linecolor": "white",
             "minorgridcolor": "white",
             "startlinecolor": "#2a3f5f"
            },
            "baxis": {
             "endlinecolor": "#2a3f5f",
             "gridcolor": "white",
             "linecolor": "white",
             "minorgridcolor": "white",
             "startlinecolor": "#2a3f5f"
            },
            "type": "carpet"
           }
          ],
          "choropleth": [
           {
            "colorbar": {
             "outlinewidth": 0,
             "ticks": ""
            },
            "type": "choropleth"
           }
          ],
          "contour": [
           {
            "colorbar": {
             "outlinewidth": 0,
             "ticks": ""
            },
            "colorscale": [
             [
              0,
              "#0d0887"
             ],
             [
              0.1111111111111111,
              "#46039f"
             ],
             [
              0.2222222222222222,
              "#7201a8"
             ],
             [
              0.3333333333333333,
              "#9c179e"
             ],
             [
              0.4444444444444444,
              "#bd3786"
             ],
             [
              0.5555555555555556,
              "#d8576b"
             ],
             [
              0.6666666666666666,
              "#ed7953"
             ],
             [
              0.7777777777777778,
              "#fb9f3a"
             ],
             [
              0.8888888888888888,
              "#fdca26"
             ],
             [
              1,
              "#f0f921"
             ]
            ],
            "type": "contour"
           }
          ],
          "contourcarpet": [
           {
            "colorbar": {
             "outlinewidth": 0,
             "ticks": ""
            },
            "type": "contourcarpet"
           }
          ],
          "heatmap": [
           {
            "colorbar": {
             "outlinewidth": 0,
             "ticks": ""
            },
            "colorscale": [
             [
              0,
              "#0d0887"
             ],
             [
              0.1111111111111111,
              "#46039f"
             ],
             [
              0.2222222222222222,
              "#7201a8"
             ],
             [
              0.3333333333333333,
              "#9c179e"
             ],
             [
              0.4444444444444444,
              "#bd3786"
             ],
             [
              0.5555555555555556,
              "#d8576b"
             ],
             [
              0.6666666666666666,
              "#ed7953"
             ],
             [
              0.7777777777777778,
              "#fb9f3a"
             ],
             [
              0.8888888888888888,
              "#fdca26"
             ],
             [
              1,
              "#f0f921"
             ]
            ],
            "type": "heatmap"
           }
          ],
          "heatmapgl": [
           {
            "colorbar": {
             "outlinewidth": 0,
             "ticks": ""
            },
            "colorscale": [
             [
              0,
              "#0d0887"
             ],
             [
              0.1111111111111111,
              "#46039f"
             ],
             [
              0.2222222222222222,
              "#7201a8"
             ],
             [
              0.3333333333333333,
              "#9c179e"
             ],
             [
              0.4444444444444444,
              "#bd3786"
             ],
             [
              0.5555555555555556,
              "#d8576b"
             ],
             [
              0.6666666666666666,
              "#ed7953"
             ],
             [
              0.7777777777777778,
              "#fb9f3a"
             ],
             [
              0.8888888888888888,
              "#fdca26"
             ],
             [
              1,
              "#f0f921"
             ]
            ],
            "type": "heatmapgl"
           }
          ],
          "histogram": [
           {
            "marker": {
             "pattern": {
              "fillmode": "overlay",
              "size": 10,
              "solidity": 0.2
             }
            },
            "type": "histogram"
           }
          ],
          "histogram2d": [
           {
            "colorbar": {
             "outlinewidth": 0,
             "ticks": ""
            },
            "colorscale": [
             [
              0,
              "#0d0887"
             ],
             [
              0.1111111111111111,
              "#46039f"
             ],
             [
              0.2222222222222222,
              "#7201a8"
             ],
             [
              0.3333333333333333,
              "#9c179e"
             ],
             [
              0.4444444444444444,
              "#bd3786"
             ],
             [
              0.5555555555555556,
              "#d8576b"
             ],
             [
              0.6666666666666666,
              "#ed7953"
             ],
             [
              0.7777777777777778,
              "#fb9f3a"
             ],
             [
              0.8888888888888888,
              "#fdca26"
             ],
             [
              1,
              "#f0f921"
             ]
            ],
            "type": "histogram2d"
           }
          ],
          "histogram2dcontour": [
           {
            "colorbar": {
             "outlinewidth": 0,
             "ticks": ""
            },
            "colorscale": [
             [
              0,
              "#0d0887"
             ],
             [
              0.1111111111111111,
              "#46039f"
             ],
             [
              0.2222222222222222,
              "#7201a8"
             ],
             [
              0.3333333333333333,
              "#9c179e"
             ],
             [
              0.4444444444444444,
              "#bd3786"
             ],
             [
              0.5555555555555556,
              "#d8576b"
             ],
             [
              0.6666666666666666,
              "#ed7953"
             ],
             [
              0.7777777777777778,
              "#fb9f3a"
             ],
             [
              0.8888888888888888,
              "#fdca26"
             ],
             [
              1,
              "#f0f921"
             ]
            ],
            "type": "histogram2dcontour"
           }
          ],
          "mesh3d": [
           {
            "colorbar": {
             "outlinewidth": 0,
             "ticks": ""
            },
            "type": "mesh3d"
           }
          ],
          "parcoords": [
           {
            "line": {
             "colorbar": {
              "outlinewidth": 0,
              "ticks": ""
             }
            },
            "type": "parcoords"
           }
          ],
          "pie": [
           {
            "automargin": true,
            "type": "pie"
           }
          ],
          "scatter": [
           {
            "fillpattern": {
             "fillmode": "overlay",
             "size": 10,
             "solidity": 0.2
            },
            "type": "scatter"
           }
          ],
          "scatter3d": [
           {
            "line": {
             "colorbar": {
              "outlinewidth": 0,
              "ticks": ""
             }
            },
            "marker": {
             "colorbar": {
              "outlinewidth": 0,
              "ticks": ""
             }
            },
            "type": "scatter3d"
           }
          ],
          "scattercarpet": [
           {
            "marker": {
             "colorbar": {
              "outlinewidth": 0,
              "ticks": ""
             }
            },
            "type": "scattercarpet"
           }
          ],
          "scattergeo": [
           {
            "marker": {
             "colorbar": {
              "outlinewidth": 0,
              "ticks": ""
             }
            },
            "type": "scattergeo"
           }
          ],
          "scattergl": [
           {
            "marker": {
             "colorbar": {
              "outlinewidth": 0,
              "ticks": ""
             }
            },
            "type": "scattergl"
           }
          ],
          "scattermapbox": [
           {
            "marker": {
             "colorbar": {
              "outlinewidth": 0,
              "ticks": ""
             }
            },
            "type": "scattermapbox"
           }
          ],
          "scatterpolar": [
           {
            "marker": {
             "colorbar": {
              "outlinewidth": 0,
              "ticks": ""
             }
            },
            "type": "scatterpolar"
           }
          ],
          "scatterpolargl": [
           {
            "marker": {
             "colorbar": {
              "outlinewidth": 0,
              "ticks": ""
             }
            },
            "type": "scatterpolargl"
           }
          ],
          "scatterternary": [
           {
            "marker": {
             "colorbar": {
              "outlinewidth": 0,
              "ticks": ""
             }
            },
            "type": "scatterternary"
           }
          ],
          "surface": [
           {
            "colorbar": {
             "outlinewidth": 0,
             "ticks": ""
            },
            "colorscale": [
             [
              0,
              "#0d0887"
             ],
             [
              0.1111111111111111,
              "#46039f"
             ],
             [
              0.2222222222222222,
              "#7201a8"
             ],
             [
              0.3333333333333333,
              "#9c179e"
             ],
             [
              0.4444444444444444,
              "#bd3786"
             ],
             [
              0.5555555555555556,
              "#d8576b"
             ],
             [
              0.6666666666666666,
              "#ed7953"
             ],
             [
              0.7777777777777778,
              "#fb9f3a"
             ],
             [
              0.8888888888888888,
              "#fdca26"
             ],
             [
              1,
              "#f0f921"
             ]
            ],
            "type": "surface"
           }
          ],
          "table": [
           {
            "cells": {
             "fill": {
              "color": "#EBF0F8"
             },
             "line": {
              "color": "white"
             }
            },
            "header": {
             "fill": {
              "color": "#C8D4E3"
             },
             "line": {
              "color": "white"
             }
            },
            "type": "table"
           }
          ]
         },
         "layout": {
          "annotationdefaults": {
           "arrowcolor": "#2a3f5f",
           "arrowhead": 0,
           "arrowwidth": 1
          },
          "autotypenumbers": "strict",
          "coloraxis": {
           "colorbar": {
            "outlinewidth": 0,
            "ticks": ""
           }
          },
          "colorscale": {
           "diverging": [
            [
             0,
             "#8e0152"
            ],
            [
             0.1,
             "#c51b7d"
            ],
            [
             0.2,
             "#de77ae"
            ],
            [
             0.3,
             "#f1b6da"
            ],
            [
             0.4,
             "#fde0ef"
            ],
            [
             0.5,
             "#f7f7f7"
            ],
            [
             0.6,
             "#e6f5d0"
            ],
            [
             0.7,
             "#b8e186"
            ],
            [
             0.8,
             "#7fbc41"
            ],
            [
             0.9,
             "#4d9221"
            ],
            [
             1,
             "#276419"
            ]
           ],
           "sequential": [
            [
             0,
             "#0d0887"
            ],
            [
             0.1111111111111111,
             "#46039f"
            ],
            [
             0.2222222222222222,
             "#7201a8"
            ],
            [
             0.3333333333333333,
             "#9c179e"
            ],
            [
             0.4444444444444444,
             "#bd3786"
            ],
            [
             0.5555555555555556,
             "#d8576b"
            ],
            [
             0.6666666666666666,
             "#ed7953"
            ],
            [
             0.7777777777777778,
             "#fb9f3a"
            ],
            [
             0.8888888888888888,
             "#fdca26"
            ],
            [
             1,
             "#f0f921"
            ]
           ],
           "sequentialminus": [
            [
             0,
             "#0d0887"
            ],
            [
             0.1111111111111111,
             "#46039f"
            ],
            [
             0.2222222222222222,
             "#7201a8"
            ],
            [
             0.3333333333333333,
             "#9c179e"
            ],
            [
             0.4444444444444444,
             "#bd3786"
            ],
            [
             0.5555555555555556,
             "#d8576b"
            ],
            [
             0.6666666666666666,
             "#ed7953"
            ],
            [
             0.7777777777777778,
             "#fb9f3a"
            ],
            [
             0.8888888888888888,
             "#fdca26"
            ],
            [
             1,
             "#f0f921"
            ]
           ]
          },
          "colorway": [
           "#636efa",
           "#EF553B",
           "#00cc96",
           "#ab63fa",
           "#FFA15A",
           "#19d3f3",
           "#FF6692",
           "#B6E880",
           "#FF97FF",
           "#FECB52"
          ],
          "font": {
           "color": "#2a3f5f"
          },
          "geo": {
           "bgcolor": "white",
           "lakecolor": "white",
           "landcolor": "#E5ECF6",
           "showlakes": true,
           "showland": true,
           "subunitcolor": "white"
          },
          "hoverlabel": {
           "align": "left"
          },
          "hovermode": "closest",
          "mapbox": {
           "style": "light"
          },
          "paper_bgcolor": "white",
          "plot_bgcolor": "#E5ECF6",
          "polar": {
           "angularaxis": {
            "gridcolor": "white",
            "linecolor": "white",
            "ticks": ""
           },
           "bgcolor": "#E5ECF6",
           "radialaxis": {
            "gridcolor": "white",
            "linecolor": "white",
            "ticks": ""
           }
          },
          "scene": {
           "xaxis": {
            "backgroundcolor": "#E5ECF6",
            "gridcolor": "white",
            "gridwidth": 2,
            "linecolor": "white",
            "showbackground": true,
            "ticks": "",
            "zerolinecolor": "white"
           },
           "yaxis": {
            "backgroundcolor": "#E5ECF6",
            "gridcolor": "white",
            "gridwidth": 2,
            "linecolor": "white",
            "showbackground": true,
            "ticks": "",
            "zerolinecolor": "white"
           },
           "zaxis": {
            "backgroundcolor": "#E5ECF6",
            "gridcolor": "white",
            "gridwidth": 2,
            "linecolor": "white",
            "showbackground": true,
            "ticks": "",
            "zerolinecolor": "white"
           }
          },
          "shapedefaults": {
           "line": {
            "color": "#2a3f5f"
           }
          },
          "ternary": {
           "aaxis": {
            "gridcolor": "white",
            "linecolor": "white",
            "ticks": ""
           },
           "baxis": {
            "gridcolor": "white",
            "linecolor": "white",
            "ticks": ""
           },
           "bgcolor": "#E5ECF6",
           "caxis": {
            "gridcolor": "white",
            "linecolor": "white",
            "ticks": ""
           }
          },
          "title": {
           "x": 0.05
          },
          "xaxis": {
           "automargin": true,
           "gridcolor": "white",
           "linecolor": "white",
           "ticks": "",
           "title": {
            "standoff": 15
           },
           "zerolinecolor": "white",
           "zerolinewidth": 2
          },
          "yaxis": {
           "automargin": true,
           "gridcolor": "white",
           "linecolor": "white",
           "ticks": "",
           "title": {
            "standoff": 15
           },
           "zerolinecolor": "white",
           "zerolinewidth": 2
          }
         }
        },
        "xaxis": {
         "anchor": "y",
         "domain": [
          0,
          1
         ],
         "title": {
          "text": "x"
         }
        },
        "yaxis": {
         "anchor": "x",
         "domain": [
          0,
          1
         ],
         "title": {
          "text": "index"
         }
        }
       }
      },
      "text/html": [
       "<div>                            <div id=\"4cb06caa-94c5-4030-ae5a-3bdcda5fbaca\" class=\"plotly-graph-div\" style=\"height:525px; width:100%;\"></div>            <script type=\"text/javascript\">                require([\"plotly\"], function(Plotly) {                    window.PLOTLYENV=window.PLOTLYENV || {};                                    if (document.getElementById(\"4cb06caa-94c5-4030-ae5a-3bdcda5fbaca\")) {                    Plotly.newPlot(                        \"4cb06caa-94c5-4030-ae5a-3bdcda5fbaca\",                        [{\"hovertemplate\":\"x=%{x}\\u003cbr\\u003eindex=%{y}\\u003cextra\\u003e\\u003c\\u002fextra\\u003e\",\"legendgroup\":\"\",\"marker\":{\"color\":\"#636efa\",\"symbol\":\"circle\"},\"mode\":\"markers\",\"name\":\"\",\"orientation\":\"h\",\"showlegend\":false,\"x\":[1.0,1.0,0.6666666666666666,0.7692307692307693,0.6470588235294118,0.6,0.5555555555555556,0.5142857142857142,0.4375,0.46551724137931033,0.4142857142857143,0.39285714285714285,0.4270833333333333,0.41284403669724773,0.4015151515151515,0.4178082191780822,0.4329268292682927,0.4479166666666667,0.4494949494949495,0.4532710280373832,0.45726495726495725,0.4672131147540984,0.4763779527559055,0.4797047970479705,0.4875444839857651,0.4827586206896552,0.48484848484848486,0.48514851485148514,0.4852459016393443,0.4887459807073955,0.496875,0.4954128440366973,0.49096385542168675,0.4955223880597015,0.4955223880597015,0.49853372434017595,0.5014492753623189,0.49855907780979825,0.5,0.498567335243553,0.498567335243553,0.5,0.5,0.5],\"xaxis\":\"x\",\"y\":[0,1,2,3,4,5,6,7,8,9,10,11,12,13,14,15,16,17,18,19,20,21,22,23,24,25,26,27,28,29,30,31,32,33,34,35,36,37,38,39,40,41,42,43],\"yaxis\":\"y\",\"type\":\"scatter\"}],                        {\"template\":{\"data\":{\"histogram2dcontour\":[{\"type\":\"histogram2dcontour\",\"colorbar\":{\"outlinewidth\":0,\"ticks\":\"\"},\"colorscale\":[[0.0,\"#0d0887\"],[0.1111111111111111,\"#46039f\"],[0.2222222222222222,\"#7201a8\"],[0.3333333333333333,\"#9c179e\"],[0.4444444444444444,\"#bd3786\"],[0.5555555555555556,\"#d8576b\"],[0.6666666666666666,\"#ed7953\"],[0.7777777777777778,\"#fb9f3a\"],[0.8888888888888888,\"#fdca26\"],[1.0,\"#f0f921\"]]}],\"choropleth\":[{\"type\":\"choropleth\",\"colorbar\":{\"outlinewidth\":0,\"ticks\":\"\"}}],\"histogram2d\":[{\"type\":\"histogram2d\",\"colorbar\":{\"outlinewidth\":0,\"ticks\":\"\"},\"colorscale\":[[0.0,\"#0d0887\"],[0.1111111111111111,\"#46039f\"],[0.2222222222222222,\"#7201a8\"],[0.3333333333333333,\"#9c179e\"],[0.4444444444444444,\"#bd3786\"],[0.5555555555555556,\"#d8576b\"],[0.6666666666666666,\"#ed7953\"],[0.7777777777777778,\"#fb9f3a\"],[0.8888888888888888,\"#fdca26\"],[1.0,\"#f0f921\"]]}],\"heatmap\":[{\"type\":\"heatmap\",\"colorbar\":{\"outlinewidth\":0,\"ticks\":\"\"},\"colorscale\":[[0.0,\"#0d0887\"],[0.1111111111111111,\"#46039f\"],[0.2222222222222222,\"#7201a8\"],[0.3333333333333333,\"#9c179e\"],[0.4444444444444444,\"#bd3786\"],[0.5555555555555556,\"#d8576b\"],[0.6666666666666666,\"#ed7953\"],[0.7777777777777778,\"#fb9f3a\"],[0.8888888888888888,\"#fdca26\"],[1.0,\"#f0f921\"]]}],\"heatmapgl\":[{\"type\":\"heatmapgl\",\"colorbar\":{\"outlinewidth\":0,\"ticks\":\"\"},\"colorscale\":[[0.0,\"#0d0887\"],[0.1111111111111111,\"#46039f\"],[0.2222222222222222,\"#7201a8\"],[0.3333333333333333,\"#9c179e\"],[0.4444444444444444,\"#bd3786\"],[0.5555555555555556,\"#d8576b\"],[0.6666666666666666,\"#ed7953\"],[0.7777777777777778,\"#fb9f3a\"],[0.8888888888888888,\"#fdca26\"],[1.0,\"#f0f921\"]]}],\"contourcarpet\":[{\"type\":\"contourcarpet\",\"colorbar\":{\"outlinewidth\":0,\"ticks\":\"\"}}],\"contour\":[{\"type\":\"contour\",\"colorbar\":{\"outlinewidth\":0,\"ticks\":\"\"},\"colorscale\":[[0.0,\"#0d0887\"],[0.1111111111111111,\"#46039f\"],[0.2222222222222222,\"#7201a8\"],[0.3333333333333333,\"#9c179e\"],[0.4444444444444444,\"#bd3786\"],[0.5555555555555556,\"#d8576b\"],[0.6666666666666666,\"#ed7953\"],[0.7777777777777778,\"#fb9f3a\"],[0.8888888888888888,\"#fdca26\"],[1.0,\"#f0f921\"]]}],\"surface\":[{\"type\":\"surface\",\"colorbar\":{\"outlinewidth\":0,\"ticks\":\"\"},\"colorscale\":[[0.0,\"#0d0887\"],[0.1111111111111111,\"#46039f\"],[0.2222222222222222,\"#7201a8\"],[0.3333333333333333,\"#9c179e\"],[0.4444444444444444,\"#bd3786\"],[0.5555555555555556,\"#d8576b\"],[0.6666666666666666,\"#ed7953\"],[0.7777777777777778,\"#fb9f3a\"],[0.8888888888888888,\"#fdca26\"],[1.0,\"#f0f921\"]]}],\"mesh3d\":[{\"type\":\"mesh3d\",\"colorbar\":{\"outlinewidth\":0,\"ticks\":\"\"}}],\"scatter\":[{\"fillpattern\":{\"fillmode\":\"overlay\",\"size\":10,\"solidity\":0.2},\"type\":\"scatter\"}],\"parcoords\":[{\"type\":\"parcoords\",\"line\":{\"colorbar\":{\"outlinewidth\":0,\"ticks\":\"\"}}}],\"scatterpolargl\":[{\"type\":\"scatterpolargl\",\"marker\":{\"colorbar\":{\"outlinewidth\":0,\"ticks\":\"\"}}}],\"bar\":[{\"error_x\":{\"color\":\"#2a3f5f\"},\"error_y\":{\"color\":\"#2a3f5f\"},\"marker\":{\"line\":{\"color\":\"#E5ECF6\",\"width\":0.5},\"pattern\":{\"fillmode\":\"overlay\",\"size\":10,\"solidity\":0.2}},\"type\":\"bar\"}],\"scattergeo\":[{\"type\":\"scattergeo\",\"marker\":{\"colorbar\":{\"outlinewidth\":0,\"ticks\":\"\"}}}],\"scatterpolar\":[{\"type\":\"scatterpolar\",\"marker\":{\"colorbar\":{\"outlinewidth\":0,\"ticks\":\"\"}}}],\"histogram\":[{\"marker\":{\"pattern\":{\"fillmode\":\"overlay\",\"size\":10,\"solidity\":0.2}},\"type\":\"histogram\"}],\"scattergl\":[{\"type\":\"scattergl\",\"marker\":{\"colorbar\":{\"outlinewidth\":0,\"ticks\":\"\"}}}],\"scatter3d\":[{\"type\":\"scatter3d\",\"line\":{\"colorbar\":{\"outlinewidth\":0,\"ticks\":\"\"}},\"marker\":{\"colorbar\":{\"outlinewidth\":0,\"ticks\":\"\"}}}],\"scattermapbox\":[{\"type\":\"scattermapbox\",\"marker\":{\"colorbar\":{\"outlinewidth\":0,\"ticks\":\"\"}}}],\"scatterternary\":[{\"type\":\"scatterternary\",\"marker\":{\"colorbar\":{\"outlinewidth\":0,\"ticks\":\"\"}}}],\"scattercarpet\":[{\"type\":\"scattercarpet\",\"marker\":{\"colorbar\":{\"outlinewidth\":0,\"ticks\":\"\"}}}],\"carpet\":[{\"aaxis\":{\"endlinecolor\":\"#2a3f5f\",\"gridcolor\":\"white\",\"linecolor\":\"white\",\"minorgridcolor\":\"white\",\"startlinecolor\":\"#2a3f5f\"},\"baxis\":{\"endlinecolor\":\"#2a3f5f\",\"gridcolor\":\"white\",\"linecolor\":\"white\",\"minorgridcolor\":\"white\",\"startlinecolor\":\"#2a3f5f\"},\"type\":\"carpet\"}],\"table\":[{\"cells\":{\"fill\":{\"color\":\"#EBF0F8\"},\"line\":{\"color\":\"white\"}},\"header\":{\"fill\":{\"color\":\"#C8D4E3\"},\"line\":{\"color\":\"white\"}},\"type\":\"table\"}],\"barpolar\":[{\"marker\":{\"line\":{\"color\":\"#E5ECF6\",\"width\":0.5},\"pattern\":{\"fillmode\":\"overlay\",\"size\":10,\"solidity\":0.2}},\"type\":\"barpolar\"}],\"pie\":[{\"automargin\":true,\"type\":\"pie\"}]},\"layout\":{\"autotypenumbers\":\"strict\",\"colorway\":[\"#636efa\",\"#EF553B\",\"#00cc96\",\"#ab63fa\",\"#FFA15A\",\"#19d3f3\",\"#FF6692\",\"#B6E880\",\"#FF97FF\",\"#FECB52\"],\"font\":{\"color\":\"#2a3f5f\"},\"hovermode\":\"closest\",\"hoverlabel\":{\"align\":\"left\"},\"paper_bgcolor\":\"white\",\"plot_bgcolor\":\"#E5ECF6\",\"polar\":{\"bgcolor\":\"#E5ECF6\",\"angularaxis\":{\"gridcolor\":\"white\",\"linecolor\":\"white\",\"ticks\":\"\"},\"radialaxis\":{\"gridcolor\":\"white\",\"linecolor\":\"white\",\"ticks\":\"\"}},\"ternary\":{\"bgcolor\":\"#E5ECF6\",\"aaxis\":{\"gridcolor\":\"white\",\"linecolor\":\"white\",\"ticks\":\"\"},\"baxis\":{\"gridcolor\":\"white\",\"linecolor\":\"white\",\"ticks\":\"\"},\"caxis\":{\"gridcolor\":\"white\",\"linecolor\":\"white\",\"ticks\":\"\"}},\"coloraxis\":{\"colorbar\":{\"outlinewidth\":0,\"ticks\":\"\"}},\"colorscale\":{\"sequential\":[[0.0,\"#0d0887\"],[0.1111111111111111,\"#46039f\"],[0.2222222222222222,\"#7201a8\"],[0.3333333333333333,\"#9c179e\"],[0.4444444444444444,\"#bd3786\"],[0.5555555555555556,\"#d8576b\"],[0.6666666666666666,\"#ed7953\"],[0.7777777777777778,\"#fb9f3a\"],[0.8888888888888888,\"#fdca26\"],[1.0,\"#f0f921\"]],\"sequentialminus\":[[0.0,\"#0d0887\"],[0.1111111111111111,\"#46039f\"],[0.2222222222222222,\"#7201a8\"],[0.3333333333333333,\"#9c179e\"],[0.4444444444444444,\"#bd3786\"],[0.5555555555555556,\"#d8576b\"],[0.6666666666666666,\"#ed7953\"],[0.7777777777777778,\"#fb9f3a\"],[0.8888888888888888,\"#fdca26\"],[1.0,\"#f0f921\"]],\"diverging\":[[0,\"#8e0152\"],[0.1,\"#c51b7d\"],[0.2,\"#de77ae\"],[0.3,\"#f1b6da\"],[0.4,\"#fde0ef\"],[0.5,\"#f7f7f7\"],[0.6,\"#e6f5d0\"],[0.7,\"#b8e186\"],[0.8,\"#7fbc41\"],[0.9,\"#4d9221\"],[1,\"#276419\"]]},\"xaxis\":{\"gridcolor\":\"white\",\"linecolor\":\"white\",\"ticks\":\"\",\"title\":{\"standoff\":15},\"zerolinecolor\":\"white\",\"automargin\":true,\"zerolinewidth\":2},\"yaxis\":{\"gridcolor\":\"white\",\"linecolor\":\"white\",\"ticks\":\"\",\"title\":{\"standoff\":15},\"zerolinecolor\":\"white\",\"automargin\":true,\"zerolinewidth\":2},\"scene\":{\"xaxis\":{\"backgroundcolor\":\"#E5ECF6\",\"gridcolor\":\"white\",\"linecolor\":\"white\",\"showbackground\":true,\"ticks\":\"\",\"zerolinecolor\":\"white\",\"gridwidth\":2},\"yaxis\":{\"backgroundcolor\":\"#E5ECF6\",\"gridcolor\":\"white\",\"linecolor\":\"white\",\"showbackground\":true,\"ticks\":\"\",\"zerolinecolor\":\"white\",\"gridwidth\":2},\"zaxis\":{\"backgroundcolor\":\"#E5ECF6\",\"gridcolor\":\"white\",\"linecolor\":\"white\",\"showbackground\":true,\"ticks\":\"\",\"zerolinecolor\":\"white\",\"gridwidth\":2}},\"shapedefaults\":{\"line\":{\"color\":\"#2a3f5f\"}},\"annotationdefaults\":{\"arrowcolor\":\"#2a3f5f\",\"arrowhead\":0,\"arrowwidth\":1},\"geo\":{\"bgcolor\":\"white\",\"landcolor\":\"#E5ECF6\",\"subunitcolor\":\"white\",\"showland\":true,\"showlakes\":true,\"lakecolor\":\"white\"},\"title\":{\"x\":0.05},\"mapbox\":{\"style\":\"light\"}}},\"xaxis\":{\"anchor\":\"y\",\"domain\":[0.0,1.0],\"title\":{\"text\":\"x\"}},\"yaxis\":{\"anchor\":\"x\",\"domain\":[0.0,1.0],\"title\":{\"text\":\"index\"}},\"legend\":{\"tracegroupgap\":0},\"margin\":{\"t\":60}},                        {\"responsive\": true}                    ).then(function(){\n",
       "                            \n",
       "var gd = document.getElementById('4cb06caa-94c5-4030-ae5a-3bdcda5fbaca');\n",
       "var x = new MutationObserver(function (mutations, observer) {{\n",
       "        var display = window.getComputedStyle(gd).display;\n",
       "        if (!display || display === 'none') {{\n",
       "            console.log([gd, 'removed!']);\n",
       "            Plotly.purge(gd);\n",
       "            observer.disconnect();\n",
       "        }}\n",
       "}});\n",
       "\n",
       "// Listen for the removal of the full notebook cells\n",
       "var notebookContainer = gd.closest('#notebook-container');\n",
       "if (notebookContainer) {{\n",
       "    x.observe(notebookContainer, {childList: true});\n",
       "}}\n",
       "\n",
       "// Listen for the clearing of the current output cell\n",
       "var outputEl = gd.closest('.output');\n",
       "if (outputEl) {{\n",
       "    x.observe(outputEl, {childList: true});\n",
       "}}\n",
       "\n",
       "                        })                };                });            </script>        </div>"
      ]
     },
     "metadata": {},
     "output_type": "display_data"
    }
   ],
   "source": [
    "px.scatter(intervals, probs)"
   ]
  },
  {
   "cell_type": "code",
   "execution_count": 88,
   "id": "fd0c9137",
   "metadata": {},
   "outputs": [],
   "source": [
    "REG_SEASON_PLAYOFF_PROP_CHANGE_PROBS.to_csv(\"Results/REG_SEASON_PLAYOFF_PROP_CHANGE_PROBS.csv\")"
   ]
  },
  {
   "cell_type": "code",
   "execution_count": null,
   "id": "0069981e",
   "metadata": {},
   "outputs": [],
   "source": []
  }
 ],
 "metadata": {
  "kernelspec": {
   "display_name": "Python 3",
   "language": "python",
   "name": "python3"
  },
  "language_info": {
   "codemirror_mode": {
    "name": "ipython",
    "version": 3
   },
   "file_extension": ".py",
   "mimetype": "text/x-python",
   "name": "python",
   "nbconvert_exporter": "python",
   "pygments_lexer": "ipython3",
   "version": "3.11.4"
  }
 },
 "nbformat": 4,
 "nbformat_minor": 5
}
