{
 "cells": [
  {
   "cell_type": "code",
   "execution_count": 1,
   "id": "4f8aa995",
   "metadata": {},
   "outputs": [],
   "source": [
    "import pandas as pd\n",
    "import numpy as np"
   ]
  },
  {
   "cell_type": "code",
   "execution_count": 2,
   "id": "093aba5f",
   "metadata": {},
   "outputs": [],
   "source": [
    "#Get z score\n",
    "def compute_z_score(element, column):\n",
    "    mean = np.mean(column)\n",
    "    z_score = (element - mean) / np.std(column)\n",
    "    return z_score"
   ]
  },
  {
   "cell_type": "code",
   "execution_count": 3,
   "id": "c354b674",
   "metadata": {},
   "outputs": [],
   "source": [
    "#generate string labels for seasons (ex: 2023-24)\n",
    "def generate_nba_seasons(start_year, end_year):\n",
    "    seasons = []\n",
    "    for year in range(start_year, end_year):\n",
    "        next_year = str(year + 1)[-2:]  # Get last two digits of the next year\n",
    "        season = f\"{year}-{next_year}\"\n",
    "        seasons.append(season)\n",
    "    return seasons"
   ]
  },
  {
   "cell_type": "code",
   "execution_count": 4,
   "id": "6e067832",
   "metadata": {},
   "outputs": [],
   "source": []
  },
  {
   "cell_type": "code",
   "execution_count": 8,
   "id": "d9161932",
   "metadata": {},
   "outputs": [],
   "source": [
    "season_ids = generate_nba_seasons(2010, 2022)"
   ]
  },
  {
   "cell_type": "code",
   "execution_count": 9,
   "id": "285d9a3c",
   "metadata": {},
   "outputs": [],
   "source": [
    "data = []\n",
    "for season in season_ids:\n",
    "    data.append(pd.read_csv(\"Data/Raw/BENCH_POINTS_REG_SEASON_\" + season + \".csv\"))\n"
   ]
  },
  {
   "cell_type": "code",
   "execution_count": 11,
   "id": "1eed511b",
   "metadata": {},
   "outputs": [],
   "source": [
    "#Accumulate game-by-game data into team season data (i.e. get average bench points for each team season)\n",
    "seasonal_cume_data = []\n",
    "for season_data in data:\n",
    "    team_ids = []\n",
    "    seasons = []\n",
    "    avg_bench_pts = []\n",
    "    off_rtg = []\n",
    "    win_pcts = []\n",
    "    \n",
    "    #Current season\n",
    "    curr_season = season_data[\"SEASON\"].tolist()[0]\n",
    "    \n",
    "    for team in np.unique(season_data[\"TEAM_ID\"]):\n",
    "        \n",
    "        team_ids.append(team)\n",
    "        seasons.append(curr_season)\n",
    "        \n",
    "        #Compute average bench points for team\n",
    "        team_avg_bench_pts = np.mean(season_data[season_data[\"TEAM_ID\"] == team][\"BENCH_PTS\"])\n",
    "        avg_bench_pts.append(team_avg_bench_pts)\n",
    "        \n",
    "        #get season offensive rating and win pct for team\n",
    "        off_rtg.append(season_data[season_data[\"TEAM_ID\"] == team][\"OFF_RTG\"].tolist()[0])\n",
    "        win_pcts.append(season_data[season_data[\"TEAM_ID\"] == team][\"SEASON_W_PCT\"].tolist()[0])\n",
    "    \n",
    "    out_dict = {\n",
    "        \"TEAM_ID\": team_ids,\n",
    "        \"SEASON\": seasons,\n",
    "        \"AVG_BENCH_PTS\": avg_bench_pts,\n",
    "        \"OFF_RTG\": off_rtg,\n",
    "        \"W_PCT\": win_pcts\n",
    "    }\n",
    "    \n",
    "    seasonal_cume_data.append(pd.DataFrame(out_dict))"
   ]
  },
  {
   "cell_type": "code",
   "execution_count": 15,
   "id": "94eba175",
   "metadata": {},
   "outputs": [
    {
     "name": "stdout",
     "output_type": "stream",
     "text": [
      "       TEAM_ID   SEASON  AVG_BENCH_PTS  OFF_RTG  W_PCT\n",
      "0   1610612737  2010-11      30.939024    103.2  0.537\n",
      "1   1610612738  2010-11      26.740741    104.0  0.683\n",
      "2   1610612739  2010-11      35.646341     99.5  0.232\n",
      "3   1610612740  2010-11      29.621951    103.8  0.561\n",
      "4   1610612741  2010-11      27.524390    105.5  0.756\n",
      "5   1610612742  2010-11      40.518519    107.6  0.695\n",
      "6   1610612743  2010-11      37.219512    109.5  0.610\n",
      "7   1610612744  2010-11      24.207317    105.5  0.439\n",
      "8   1610612745  2010-11      32.426829    108.0  0.524\n",
      "9   1610612746  2010-11      27.085366    101.8  0.390\n",
      "10  1610612747  2010-11      28.243902    107.9  0.695\n",
      "11  1610612748  2010-11      21.939024    109.3  0.707\n",
      "12  1610612749  2010-11      30.963415     99.0  0.427\n",
      "13  1610612750  2010-11      34.530864    101.1  0.207\n",
      "14  1610612751  2010-11      31.271605    100.2  0.293\n",
      "15  1610612752  2010-11      26.914634    108.3  0.512\n",
      "16  1610612753  2010-11      27.268293    105.7  0.634\n",
      "17  1610612754  2010-11      33.609756    101.9  0.451\n",
      "18  1610612755  2010-11      39.259259    104.0  0.500\n",
      "19  1610612756  2010-11      40.292683    107.0  0.488\n",
      "20  1610612757  2010-11      24.585366    105.6  0.585\n",
      "21  1610612758  2010-11      34.024390    100.6  0.293\n",
      "22  1610612759  2010-11      36.487500    109.4  0.744\n",
      "23  1610612760  2010-11      30.268293    108.6  0.671\n",
      "24  1610612761  2010-11      32.135802    103.3  0.268\n",
      "25  1610612762  2010-11      25.024691    104.9  0.476\n",
      "26  1610612763  2010-11      27.390244    104.4  0.561\n",
      "27  1610612764  2010-11      27.585366     99.6  0.280\n",
      "28  1610612765  2010-11      38.987805    104.6  0.366\n",
      "29  1610612766  2010-11      27.753086    100.8  0.415\n"
     ]
    }
   ],
   "source": [
    "print(seasonal_cume_data[0])"
   ]
  },
  {
   "cell_type": "code",
   "execution_count": 21,
   "id": "38f9bdb1",
   "metadata": {},
   "outputs": [],
   "source": [
    "#Calculate z scores and accumulate all data into a single dataframe\n",
    "team_ids = []\n",
    "seasons = []\n",
    "bench_pts_z_scores = []\n",
    "off_rtg_z_scores = []\n",
    "w_pct_z_scores = []\n",
    "\n",
    "for season_data in seasonal_cume_data:\n",
    "    \n",
    "    #Collect data from all teams to use for computing z-scores\n",
    "    seasonal_bench_pts = season_data[\"AVG_BENCH_PTS\"].tolist()\n",
    "    seasonal_off_rtgs = season_data[\"OFF_RTG\"].tolist()\n",
    "    seasonal_w_pcts = season_data[\"W_PCT\"].tolist()\n",
    "    \n",
    "    for index, row in season_data.iterrows():\n",
    "        team_ids.append(row[\"TEAM_ID\"])\n",
    "        seasons.append(row[\"SEASON\"])\n",
    "    \n",
    "        #Compute z scores\n",
    "        bench_pts_z_scores.append(compute_z_score(row[\"AVG_BENCH_PTS\"], seasonal_bench_pts))\n",
    "        off_rtg_z_scores.append(compute_z_score(row[\"OFF_RTG\"], seasonal_off_rtgs))\n",
    "        w_pct_z_scores.append(compute_z_score(row[\"W_PCT\"], seasonal_w_pcts))\n",
    "        \n",
    "\n",
    "out_dict = {\n",
    "    \"TEAM_ID\": team_ids,\n",
    "    \"SEASON\": seasons,\n",
    "    \"REL_BENCH_PTS\": bench_pts_z_scores,\n",
    "    \"REL_OFF_RTG\": off_rtg_z_scores,\n",
    "    \"REL_W_PCT\": w_pct_z_scores\n",
    "}\n",
    "\n",
    "relative_data = pd.DataFrame(out_dict)"
   ]
  },
  {
   "cell_type": "code",
   "execution_count": 22,
   "id": "a3530967",
   "metadata": {},
   "outputs": [
    {
     "name": "stdout",
     "output_type": "stream",
     "text": [
      "        TEAM_ID   SEASON  REL_BENCH_PTS  REL_OFF_RTG  REL_W_PCT\n",
      "0    1610612737  2010-11      -0.015224    -0.404078   0.234234\n",
      "1    1610612738  2010-11      -0.850603    -0.152838   1.158506\n",
      "2    1610612739  2010-11       0.921444    -1.566064  -1.696610\n",
      "3    1610612740  2010-11      -0.277296    -0.215648   0.386169\n",
      "4    1610612741  2010-11      -0.694671     0.318238   1.620643\n",
      "..          ...      ...            ...          ...        ...\n",
      "355  1610612762  2021-22       0.727985     1.485015   0.707263\n",
      "356  1610612763  2021-22       0.918643     0.715245   1.320288\n",
      "357  1610612764  2021-22       1.024471    -0.150747  -0.526000\n",
      "358  1610612765  2021-22       0.902854    -1.946877  -1.586172\n",
      "359  1610612766  2021-22       0.221519     0.747318   0.173570\n",
      "\n",
      "[360 rows x 5 columns]\n"
     ]
    }
   ],
   "source": [
    "print(relative_data)"
   ]
  },
  {
   "cell_type": "code",
   "execution_count": 23,
   "id": "2d0ffaaa",
   "metadata": {},
   "outputs": [],
   "source": [
    "relative_data.to_csv(\"Data/Polished/RELATIVE_REG_SEASON_DATA.csv\")"
   ]
  },
  {
   "cell_type": "code",
   "execution_count": null,
   "id": "49d6f262",
   "metadata": {},
   "outputs": [],
   "source": []
  }
 ],
 "metadata": {
  "kernelspec": {
   "display_name": "Python 3",
   "language": "python",
   "name": "python3"
  },
  "language_info": {
   "codemirror_mode": {
    "name": "ipython",
    "version": 3
   },
   "file_extension": ".py",
   "mimetype": "text/x-python",
   "name": "python",
   "nbconvert_exporter": "python",
   "pygments_lexer": "ipython3",
   "version": "3.11.4"
  }
 },
 "nbformat": 4,
 "nbformat_minor": 5
}
